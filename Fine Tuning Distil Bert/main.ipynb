{
 "cells": [
  {
   "cell_type": "markdown",
   "id": "3bcedf00",
   "metadata": {},
   "source": [
    "### Fine-tuning DistilBERT for Text Classification"
   ]
  },
  {
   "cell_type": "code",
   "execution_count": 15,
   "id": "f79b851a",
   "metadata": {},
   "outputs": [],
   "source": [
    "# libraries\n",
    "import pandas as pd\n",
    "import torch\n",
    "from transformers import DistilBertTokenizer, DistilBertForSequenceClassification, Trainer, TrainingArguments\n",
    "from sklearn.model_selection import train_test_split\n",
    "from sklearn.metrics import classification_report, confusion_matrix\n",
    "from datasets import Dataset\n",
    "\n",
    "import nltk\n",
    "from nltk.corpus import stopwords"
   ]
  },
  {
   "cell_type": "code",
   "execution_count": 9,
   "id": "19bfd9dc",
   "metadata": {},
   "outputs": [
    {
     "data": {
      "application/vnd.microsoft.datawrangler.viewer.v0+json": {
       "columns": [
        {
         "name": "index",
         "rawType": "int64",
         "type": "integer"
        },
        {
         "name": "text",
         "rawType": "object",
         "type": "string"
        },
        {
         "name": "intent",
         "rawType": "object",
         "type": "string"
        }
       ],
       "ref": "80abc224-6bf0-471f-914e-b6f060ba0b6f",
       "rows": [
        [
         "0",
         "listen to westbam alumb allergic on google music",
         "PlayMusic"
        ],
        [
         "1",
         "add step to me to the 50 clásicos playlist",
         "AddToPlaylist"
        ],
        [
         "2",
         "i give this current textbook a rating value of 1 and a best rating of 6",
         "RateBook"
        ],
        [
         "3",
         "play the song little robin redbreast",
         "PlayMusic"
        ],
        [
         "4",
         "please add iris dement to my playlist this is selena",
         "AddToPlaylist"
        ],
        [
         "5",
         "add slimm cutta calhoun to my this is prince playlist",
         "AddToPlaylist"
        ],
        [
         "6",
         "i want to listen to seventies music",
         "PlayMusic"
        ],
        [
         "7",
         "play a popular chant by brian epstein",
         "PlayMusic"
        ],
        [
         "8",
         "find fish story",
         "SearchScreeningEvent"
        ],
        [
         "9",
         "book a spot for 3 in mt",
         "BookRestaurant"
        ],
        [
         "10",
         "i need a forecast for jetmore  massachusetts in 1 hour and 1 second from now",
         "GetWeather"
        ],
        [
         "11",
         "rate this series a 5",
         "RateBook"
        ],
        [
         "12",
         "give me a list of movie times for films in the area",
         "SearchScreeningEvent"
        ],
        [
         "13",
         "can you play me some eighties music by adele",
         "PlayMusic"
        ],
        [
         "14",
         "please let me know the weather forcast of stanislaus national forest far in nine months",
         "GetWeather"
        ],
        [
         "15",
         "book a restaurant for eight people in six years",
         "BookRestaurant"
        ],
        [
         "16",
         "i need to book a restaurant in fork mountain  sc for valarie  mari and i",
         "BookRestaurant"
        ],
        [
         "17",
         "add to playlist confidence boost here comes santa claus",
         "AddToPlaylist"
        ],
        [
         "18",
         "book a restaurant at sixteen o clock in sc",
         "BookRestaurant"
        ],
        [
         "19",
         "add another artist to the spotlight on country 2016 playlist",
         "AddToPlaylist"
        ],
        [
         "20",
         "find a movie house showing cage without a key",
         "SearchScreeningEvent"
        ],
        [
         "21",
         "add sugarolly days to my list  your favorite slaughterhouse",
         "AddToPlaylist"
        ],
        [
         "22",
         "show me the picture creatures of light and darkness",
         "SearchCreativeWork"
        ],
        [
         "23",
         "search for the adventures of cookie & cream",
         "SearchCreativeWork"
        ],
        [
         "24",
         "add this track to my global funk",
         "AddToPlaylist"
        ],
        [
         "25",
         "find animated movies nearest at a movie house",
         "SearchScreeningEvent"
        ],
        [
         "26",
         "play hell house song",
         "SearchCreativeWork"
        ],
        [
         "27",
         "give this novel 5 stars",
         "RateBook"
        ],
        [
         "28",
         "find me showtimes for animated movies in the neighbourhood",
         "SearchScreeningEvent"
        ],
        [
         "29",
         "find movie times",
         "SearchScreeningEvent"
        ],
        [
         "30",
         "play the top-20 best chicane songs on deezer",
         "PlayMusic"
        ],
        [
         "31",
         "i want to give this current textbook 4 points",
         "RateBook"
        ],
        [
         "32",
         "add manuelita to my indiespensables playlist",
         "AddToPlaylist"
        ],
        [
         "33",
         "show movie schedules for douglas theatre company",
         "SearchScreeningEvent"
        ],
        [
         "34",
         "i d like to see the show onion sportsdome",
         "SearchCreativeWork"
        ],
        [
         "35",
         "i d like to go to the popular bistro in oh",
         "BookRestaurant"
        ],
        [
         "36",
         "what s the weather in my current spot the day after tomorrow",
         "GetWeather"
        ],
        [
         "37",
         "play playlist the realest down south",
         "PlayMusic"
        ],
        [
         "38",
         "add this artist to gretchen s soul revived playlist",
         "AddToPlaylist"
        ],
        [
         "39",
         "find a video game called victory march",
         "SearchCreativeWork"
        ],
        [
         "40",
         "find a novel called industry",
         "SearchCreativeWork"
        ],
        [
         "41",
         "book a taverna that serves vichyssoise within walking distance in oh",
         "BookRestaurant"
        ],
        [
         "42",
         "let me see the movie schedule for seed of chucky",
         "SearchScreeningEvent"
        ],
        [
         "43",
         "play a chant by mj cole",
         "PlayMusic"
        ],
        [
         "44",
         "what is the weather like in the city of frewen in the country of venezuela",
         "GetWeather"
        ],
        [
         "45",
         "put this song on my playlist  in the name of blues",
         "AddToPlaylist"
        ],
        [
         "46",
         "will it be colder in ohio",
         "GetWeather"
        ],
        [
         "47",
         "rate this album a 1",
         "RateBook"
        ],
        [
         "48",
         "in the area find some films",
         "SearchScreeningEvent"
        ],
        [
         "49",
         "what times will the young swordsman be showing at a local cinema",
         "SearchScreeningEvent"
        ]
       ],
       "shape": {
        "columns": 2,
        "rows": 13084
       }
      },
      "text/html": [
       "<div>\n",
       "<style scoped>\n",
       "    .dataframe tbody tr th:only-of-type {\n",
       "        vertical-align: middle;\n",
       "    }\n",
       "\n",
       "    .dataframe tbody tr th {\n",
       "        vertical-align: top;\n",
       "    }\n",
       "\n",
       "    .dataframe thead th {\n",
       "        text-align: right;\n",
       "    }\n",
       "</style>\n",
       "<table border=\"1\" class=\"dataframe\">\n",
       "  <thead>\n",
       "    <tr style=\"text-align: right;\">\n",
       "      <th></th>\n",
       "      <th>text</th>\n",
       "      <th>intent</th>\n",
       "    </tr>\n",
       "  </thead>\n",
       "  <tbody>\n",
       "    <tr>\n",
       "      <th>0</th>\n",
       "      <td>listen to westbam alumb allergic on google music</td>\n",
       "      <td>PlayMusic</td>\n",
       "    </tr>\n",
       "    <tr>\n",
       "      <th>1</th>\n",
       "      <td>add step to me to the 50 clásicos playlist</td>\n",
       "      <td>AddToPlaylist</td>\n",
       "    </tr>\n",
       "    <tr>\n",
       "      <th>2</th>\n",
       "      <td>i give this current textbook a rating value of...</td>\n",
       "      <td>RateBook</td>\n",
       "    </tr>\n",
       "    <tr>\n",
       "      <th>3</th>\n",
       "      <td>play the song little robin redbreast</td>\n",
       "      <td>PlayMusic</td>\n",
       "    </tr>\n",
       "    <tr>\n",
       "      <th>4</th>\n",
       "      <td>please add iris dement to my playlist this is ...</td>\n",
       "      <td>AddToPlaylist</td>\n",
       "    </tr>\n",
       "    <tr>\n",
       "      <th>...</th>\n",
       "      <td>...</td>\n",
       "      <td>...</td>\n",
       "    </tr>\n",
       "    <tr>\n",
       "      <th>13079</th>\n",
       "      <td>i want to eat choucroute at a brasserie for 8</td>\n",
       "      <td>BookRestaurant</td>\n",
       "    </tr>\n",
       "    <tr>\n",
       "      <th>13080</th>\n",
       "      <td>play funky heavy bluesy</td>\n",
       "      <td>PlayMusic</td>\n",
       "    </tr>\n",
       "    <tr>\n",
       "      <th>13081</th>\n",
       "      <td>rate the current album 2 points out of 6</td>\n",
       "      <td>RateBook</td>\n",
       "    </tr>\n",
       "    <tr>\n",
       "      <th>13082</th>\n",
       "      <td>go to the photograph the inflated tear</td>\n",
       "      <td>SearchCreativeWork</td>\n",
       "    </tr>\n",
       "    <tr>\n",
       "      <th>13083</th>\n",
       "      <td>rate richard carvel 4 out of 6</td>\n",
       "      <td>RateBook</td>\n",
       "    </tr>\n",
       "  </tbody>\n",
       "</table>\n",
       "<p>13084 rows × 2 columns</p>\n",
       "</div>"
      ],
      "text/plain": [
       "                                                    text              intent\n",
       "0       listen to westbam alumb allergic on google music           PlayMusic\n",
       "1             add step to me to the 50 clásicos playlist       AddToPlaylist\n",
       "2      i give this current textbook a rating value of...            RateBook\n",
       "3                   play the song little robin redbreast           PlayMusic\n",
       "4      please add iris dement to my playlist this is ...       AddToPlaylist\n",
       "...                                                  ...                 ...\n",
       "13079      i want to eat choucroute at a brasserie for 8      BookRestaurant\n",
       "13080                            play funky heavy bluesy           PlayMusic\n",
       "13081           rate the current album 2 points out of 6            RateBook\n",
       "13082             go to the photograph the inflated tear  SearchCreativeWork\n",
       "13083                     rate richard carvel 4 out of 6            RateBook\n",
       "\n",
       "[13084 rows x 2 columns]"
      ]
     },
     "execution_count": 9,
     "metadata": {},
     "output_type": "execute_result"
    }
   ],
   "source": [
    "# load dataset\n",
    "df = pd.read_csv('train.csv')\n",
    "df"
   ]
  },
  {
   "cell_type": "code",
   "execution_count": 10,
   "id": "4f8a01c6",
   "metadata": {},
   "outputs": [
    {
     "name": "stdout",
     "output_type": "stream",
     "text": [
      "<class 'pandas.core.frame.DataFrame'>\n",
      "RangeIndex: 13084 entries, 0 to 13083\n",
      "Data columns (total 2 columns):\n",
      " #   Column  Non-Null Count  Dtype \n",
      "---  ------  --------------  ----- \n",
      " 0   text    13084 non-null  object\n",
      " 1   intent  13084 non-null  object\n",
      "dtypes: object(2)\n",
      "memory usage: 204.6+ KB\n"
     ]
    }
   ],
   "source": [
    "df.info()"
   ]
  },
  {
   "cell_type": "code",
   "execution_count": 11,
   "id": "ae7c5477",
   "metadata": {},
   "outputs": [
    {
     "data": {
      "application/vnd.microsoft.datawrangler.viewer.v0+json": {
       "columns": [
        {
         "name": "intent",
         "rawType": "object",
         "type": "string"
        },
        {
         "name": "count",
         "rawType": "int64",
         "type": "integer"
        }
       ],
       "ref": "1be08cce-6c4e-45a0-bc73-f324bd14b7b0",
       "rows": [
        [
         "PlayMusic",
         "1914"
        ],
        [
         "GetWeather",
         "1896"
        ],
        [
         "BookRestaurant",
         "1881"
        ],
        [
         "RateBook",
         "1876"
        ],
        [
         "SearchScreeningEvent",
         "1852"
        ],
        [
         "SearchCreativeWork",
         "1847"
        ],
        [
         "AddToPlaylist",
         "1818"
        ]
       ],
       "shape": {
        "columns": 1,
        "rows": 7
       }
      },
      "text/plain": [
       "intent\n",
       "PlayMusic               1914\n",
       "GetWeather              1896\n",
       "BookRestaurant          1881\n",
       "RateBook                1876\n",
       "SearchScreeningEvent    1852\n",
       "SearchCreativeWork      1847\n",
       "AddToPlaylist           1818\n",
       "Name: count, dtype: int64"
      ]
     },
     "execution_count": 11,
     "metadata": {},
     "output_type": "execute_result"
    }
   ],
   "source": [
    "df['intent'].value_counts()"
   ]
  },
  {
   "cell_type": "code",
   "execution_count": 12,
   "id": "522635b8",
   "metadata": {},
   "outputs": [
    {
     "data": {
      "application/vnd.microsoft.datawrangler.viewer.v0+json": {
       "columns": [
        {
         "name": "index",
         "rawType": "object",
         "type": "string"
        },
        {
         "name": "0",
         "rawType": "int64",
         "type": "integer"
        }
       ],
       "ref": "431ca117-3221-48aa-a007-2a0c0f3650aa",
       "rows": [
        [
         "text",
         "0"
        ],
        [
         "intent",
         "0"
        ]
       ],
       "shape": {
        "columns": 1,
        "rows": 2
       }
      },
      "text/plain": [
       "text      0\n",
       "intent    0\n",
       "dtype: int64"
      ]
     },
     "execution_count": 12,
     "metadata": {},
     "output_type": "execute_result"
    }
   ],
   "source": [
    "df.isnull().sum()"
   ]
  },
  {
   "cell_type": "code",
   "execution_count": 14,
   "id": "d0ef50a8",
   "metadata": {},
   "outputs": [
    {
     "data": {
      "application/vnd.microsoft.datawrangler.viewer.v0+json": {
       "columns": [
        {
         "name": "index",
         "rawType": "int64",
         "type": "integer"
        },
        {
         "name": "text",
         "rawType": "object",
         "type": "string"
        },
        {
         "name": "intent",
         "rawType": "object",
         "type": "string"
        }
       ],
       "ref": "01f0e8f6-042d-47cc-9b36-b307f85709f9",
       "rows": [
        [
         "0",
         "listen to westbam alumb allergic on google music",
         "playmusic"
        ],
        [
         "1",
         "add step to me to the 50 clásicos playlist",
         "addtoplaylist"
        ],
        [
         "2",
         "i give this current textbook a rating value of 1 and a best rating of 6",
         "ratebook"
        ],
        [
         "3",
         "play the song little robin redbreast",
         "playmusic"
        ],
        [
         "4",
         "please add iris dement to my playlist this is selena",
         "addtoplaylist"
        ],
        [
         "5",
         "add slimm cutta calhoun to my this is prince playlist",
         "addtoplaylist"
        ],
        [
         "6",
         "i want to listen to seventies music",
         "playmusic"
        ],
        [
         "7",
         "play a popular chant by brian epstein",
         "playmusic"
        ],
        [
         "8",
         "find fish story",
         "searchscreeningevent"
        ],
        [
         "9",
         "book a spot for 3 in mt",
         "bookrestaurant"
        ],
        [
         "10",
         "i need a forecast for jetmore  massachusetts in 1 hour and 1 second from now",
         "getweather"
        ],
        [
         "11",
         "rate this series a 5",
         "ratebook"
        ],
        [
         "12",
         "give me a list of movie times for films in the area",
         "searchscreeningevent"
        ],
        [
         "13",
         "can you play me some eighties music by adele",
         "playmusic"
        ],
        [
         "14",
         "please let me know the weather forcast of stanislaus national forest far in nine months",
         "getweather"
        ],
        [
         "15",
         "book a restaurant for eight people in six years",
         "bookrestaurant"
        ],
        [
         "16",
         "i need to book a restaurant in fork mountain  sc for valarie  mari and i",
         "bookrestaurant"
        ],
        [
         "17",
         "add to playlist confidence boost here comes santa claus",
         "addtoplaylist"
        ],
        [
         "18",
         "book a restaurant at sixteen o clock in sc",
         "bookrestaurant"
        ],
        [
         "19",
         "add another artist to the spotlight on country 2016 playlist",
         "addtoplaylist"
        ],
        [
         "20",
         "find a movie house showing cage without a key",
         "searchscreeningevent"
        ],
        [
         "21",
         "add sugarolly days to my list  your favorite slaughterhouse",
         "addtoplaylist"
        ],
        [
         "22",
         "show me the picture creatures of light and darkness",
         "searchcreativework"
        ],
        [
         "23",
         "search for the adventures of cookie & cream",
         "searchcreativework"
        ],
        [
         "24",
         "add this track to my global funk",
         "addtoplaylist"
        ],
        [
         "25",
         "find animated movies nearest at a movie house",
         "searchscreeningevent"
        ],
        [
         "26",
         "play hell house song",
         "searchcreativework"
        ],
        [
         "27",
         "give this novel 5 stars",
         "ratebook"
        ],
        [
         "28",
         "find me showtimes for animated movies in the neighbourhood",
         "searchscreeningevent"
        ],
        [
         "29",
         "find movie times",
         "searchscreeningevent"
        ],
        [
         "30",
         "play the top-20 best chicane songs on deezer",
         "playmusic"
        ],
        [
         "31",
         "i want to give this current textbook 4 points",
         "ratebook"
        ],
        [
         "32",
         "add manuelita to my indiespensables playlist",
         "addtoplaylist"
        ],
        [
         "33",
         "show movie schedules for douglas theatre company",
         "searchscreeningevent"
        ],
        [
         "34",
         "i d like to see the show onion sportsdome",
         "searchcreativework"
        ],
        [
         "35",
         "i d like to go to the popular bistro in oh",
         "bookrestaurant"
        ],
        [
         "36",
         "what s the weather in my current spot the day after tomorrow",
         "getweather"
        ],
        [
         "37",
         "play playlist the realest down south",
         "playmusic"
        ],
        [
         "38",
         "add this artist to gretchen s soul revived playlist",
         "addtoplaylist"
        ],
        [
         "39",
         "find a video game called victory march",
         "searchcreativework"
        ],
        [
         "40",
         "find a novel called industry",
         "searchcreativework"
        ],
        [
         "41",
         "book a taverna that serves vichyssoise within walking distance in oh",
         "bookrestaurant"
        ],
        [
         "42",
         "let me see the movie schedule for seed of chucky",
         "searchscreeningevent"
        ],
        [
         "43",
         "play a chant by mj cole",
         "playmusic"
        ],
        [
         "44",
         "what is the weather like in the city of frewen in the country of venezuela",
         "getweather"
        ],
        [
         "45",
         "put this song on my playlist  in the name of blues",
         "addtoplaylist"
        ],
        [
         "46",
         "will it be colder in ohio",
         "getweather"
        ],
        [
         "47",
         "rate this album a 1",
         "ratebook"
        ],
        [
         "48",
         "in the area find some films",
         "searchscreeningevent"
        ],
        [
         "49",
         "what times will the young swordsman be showing at a local cinema",
         "searchscreeningevent"
        ]
       ],
       "shape": {
        "columns": 2,
        "rows": 13084
       }
      },
      "text/html": [
       "<div>\n",
       "<style scoped>\n",
       "    .dataframe tbody tr th:only-of-type {\n",
       "        vertical-align: middle;\n",
       "    }\n",
       "\n",
       "    .dataframe tbody tr th {\n",
       "        vertical-align: top;\n",
       "    }\n",
       "\n",
       "    .dataframe thead th {\n",
       "        text-align: right;\n",
       "    }\n",
       "</style>\n",
       "<table border=\"1\" class=\"dataframe\">\n",
       "  <thead>\n",
       "    <tr style=\"text-align: right;\">\n",
       "      <th></th>\n",
       "      <th>text</th>\n",
       "      <th>intent</th>\n",
       "    </tr>\n",
       "  </thead>\n",
       "  <tbody>\n",
       "    <tr>\n",
       "      <th>0</th>\n",
       "      <td>listen to westbam alumb allergic on google music</td>\n",
       "      <td>playmusic</td>\n",
       "    </tr>\n",
       "    <tr>\n",
       "      <th>1</th>\n",
       "      <td>add step to me to the 50 clásicos playlist</td>\n",
       "      <td>addtoplaylist</td>\n",
       "    </tr>\n",
       "    <tr>\n",
       "      <th>2</th>\n",
       "      <td>i give this current textbook a rating value of...</td>\n",
       "      <td>ratebook</td>\n",
       "    </tr>\n",
       "    <tr>\n",
       "      <th>3</th>\n",
       "      <td>play the song little robin redbreast</td>\n",
       "      <td>playmusic</td>\n",
       "    </tr>\n",
       "    <tr>\n",
       "      <th>4</th>\n",
       "      <td>please add iris dement to my playlist this is ...</td>\n",
       "      <td>addtoplaylist</td>\n",
       "    </tr>\n",
       "    <tr>\n",
       "      <th>...</th>\n",
       "      <td>...</td>\n",
       "      <td>...</td>\n",
       "    </tr>\n",
       "    <tr>\n",
       "      <th>13079</th>\n",
       "      <td>i want to eat choucroute at a brasserie for 8</td>\n",
       "      <td>bookrestaurant</td>\n",
       "    </tr>\n",
       "    <tr>\n",
       "      <th>13080</th>\n",
       "      <td>play funky heavy bluesy</td>\n",
       "      <td>playmusic</td>\n",
       "    </tr>\n",
       "    <tr>\n",
       "      <th>13081</th>\n",
       "      <td>rate the current album 2 points out of 6</td>\n",
       "      <td>ratebook</td>\n",
       "    </tr>\n",
       "    <tr>\n",
       "      <th>13082</th>\n",
       "      <td>go to the photograph the inflated tear</td>\n",
       "      <td>searchcreativework</td>\n",
       "    </tr>\n",
       "    <tr>\n",
       "      <th>13083</th>\n",
       "      <td>rate richard carvel 4 out of 6</td>\n",
       "      <td>ratebook</td>\n",
       "    </tr>\n",
       "  </tbody>\n",
       "</table>\n",
       "<p>13084 rows × 2 columns</p>\n",
       "</div>"
      ],
      "text/plain": [
       "                                                    text              intent\n",
       "0       listen to westbam alumb allergic on google music           playmusic\n",
       "1             add step to me to the 50 clásicos playlist       addtoplaylist\n",
       "2      i give this current textbook a rating value of...            ratebook\n",
       "3                   play the song little robin redbreast           playmusic\n",
       "4      please add iris dement to my playlist this is ...       addtoplaylist\n",
       "...                                                  ...                 ...\n",
       "13079      i want to eat choucroute at a brasserie for 8      bookrestaurant\n",
       "13080                            play funky heavy bluesy           playmusic\n",
       "13081           rate the current album 2 points out of 6            ratebook\n",
       "13082             go to the photograph the inflated tear  searchcreativework\n",
       "13083                     rate richard carvel 4 out of 6            ratebook\n",
       "\n",
       "[13084 rows x 2 columns]"
      ]
     },
     "execution_count": 14,
     "metadata": {},
     "output_type": "execute_result"
    }
   ],
   "source": [
    "# eda\n",
    "df['intent'] = df['intent'].str.lower()\n",
    "df['text'] = df['text'].str.lower()\n",
    "df"
   ]
  },
  {
   "cell_type": "code",
   "execution_count": 16,
   "id": "4a313705",
   "metadata": {},
   "outputs": [
    {
     "name": "stderr",
     "output_type": "stream",
     "text": [
      "[nltk_data] Downloading package stopwords to\n",
      "[nltk_data]     C:\\Users\\DC\\AppData\\Roaming\\nltk_data...\n",
      "[nltk_data]   Unzipping corpora\\stopwords.zip.\n"
     ]
    }
   ],
   "source": [
    "# prepare stopwords\n",
    "nltk.download('stopwords')\n",
    "stop_words = set(stopwords.words('english'))"
   ]
  },
  {
   "cell_type": "code",
   "execution_count": null,
   "id": "db04bc60",
   "metadata": {},
   "outputs": [],
   "source": [
    "# function to remove stopwords\n",
    "def remove_stopwords(text):\n",
    "  # text to lowercase\n",
    "  text = text.lower()\n",
    "  \n",
    "  # remove stopwords\n",
    "  filtered_words = ' '.join([word for word in text.split() if word not in stop_words])\n",
    "  return filtered_words\n",
    "\n",
    "  "
   ]
  }
 ],
 "metadata": {
  "kernelspec": {
   "display_name": "PT_env",
   "language": "python",
   "name": "python3"
  },
  "language_info": {
   "codemirror_mode": {
    "name": "ipython",
    "version": 3
   },
   "file_extension": ".py",
   "mimetype": "text/x-python",
   "name": "python",
   "nbconvert_exporter": "python",
   "pygments_lexer": "ipython3",
   "version": "3.11.9"
  }
 },
 "nbformat": 4,
 "nbformat_minor": 5
}
