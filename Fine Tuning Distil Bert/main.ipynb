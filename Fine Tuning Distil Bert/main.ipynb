{
 "cells": [
  {
   "cell_type": "markdown",
   "id": "3bcedf00",
   "metadata": {},
   "source": [
    "### Fine-tuning DistilBERT for Text Classification"
   ]
  },
  {
   "cell_type": "code",
   "execution_count": null,
   "id": "f79b851a",
   "metadata": {},
   "outputs": [],
   "source": [
    "# libraries\n",
    "import pandas as pd\n",
    "import torch\n",
    "from transformers import DistilBertTokenizer, DistilBertForSequenceClassification, Trainer, TrainingArguments\n",
    "from sklearn.model_selection import train_test_split\n",
    "from sklearn.metrics import accuracy_score, precision_recall_fscore_support, classification_report\n",
    "from datasets import Dataset\n",
    "\n",
    "import nltk\n",
    "from nltk.corpus import stopwords"
   ]
  },
  {
   "cell_type": "code",
   "execution_count": 26,
   "id": "eeab4bd9",
   "metadata": {},
   "outputs": [
    {
     "name": "stdout",
     "output_type": "stream",
     "text": [
      "Rows: 13084\n",
      "Columns: ['text', 'intent']\n"
     ]
    },
    {
     "data": {
      "application/vnd.microsoft.datawrangler.viewer.v0+json": {
       "columns": [
        {
         "name": "index",
         "rawType": "int64",
         "type": "integer"
        },
        {
         "name": "text",
         "rawType": "object",
         "type": "string"
        },
        {
         "name": "intent",
         "rawType": "object",
         "type": "string"
        }
       ],
       "ref": "d2fce9ce-026f-4ea0-b3c6-386e352e084c",
       "rows": [
        [
         "0",
         "listen to westbam alumb allergic on google music",
         "PlayMusic"
        ],
        [
         "1",
         "add step to me to the 50 clásicos playlist",
         "AddToPlaylist"
        ],
        [
         "2",
         "i give this current textbook a rating value of 1 and a best rating of 6",
         "RateBook"
        ],
        [
         "3",
         "play the song little robin redbreast",
         "PlayMusic"
        ],
        [
         "4",
         "please add iris dement to my playlist this is selena",
         "AddToPlaylist"
        ]
       ],
       "shape": {
        "columns": 2,
        "rows": 5
       }
      },
      "text/html": [
       "<div>\n",
       "<style scoped>\n",
       "    .dataframe tbody tr th:only-of-type {\n",
       "        vertical-align: middle;\n",
       "    }\n",
       "\n",
       "    .dataframe tbody tr th {\n",
       "        vertical-align: top;\n",
       "    }\n",
       "\n",
       "    .dataframe thead th {\n",
       "        text-align: right;\n",
       "    }\n",
       "</style>\n",
       "<table border=\"1\" class=\"dataframe\">\n",
       "  <thead>\n",
       "    <tr style=\"text-align: right;\">\n",
       "      <th></th>\n",
       "      <th>text</th>\n",
       "      <th>intent</th>\n",
       "    </tr>\n",
       "  </thead>\n",
       "  <tbody>\n",
       "    <tr>\n",
       "      <th>0</th>\n",
       "      <td>listen to westbam alumb allergic on google music</td>\n",
       "      <td>PlayMusic</td>\n",
       "    </tr>\n",
       "    <tr>\n",
       "      <th>1</th>\n",
       "      <td>add step to me to the 50 clásicos playlist</td>\n",
       "      <td>AddToPlaylist</td>\n",
       "    </tr>\n",
       "    <tr>\n",
       "      <th>2</th>\n",
       "      <td>i give this current textbook a rating value of...</td>\n",
       "      <td>RateBook</td>\n",
       "    </tr>\n",
       "    <tr>\n",
       "      <th>3</th>\n",
       "      <td>play the song little robin redbreast</td>\n",
       "      <td>PlayMusic</td>\n",
       "    </tr>\n",
       "    <tr>\n",
       "      <th>4</th>\n",
       "      <td>please add iris dement to my playlist this is ...</td>\n",
       "      <td>AddToPlaylist</td>\n",
       "    </tr>\n",
       "  </tbody>\n",
       "</table>\n",
       "</div>"
      ],
      "text/plain": [
       "                                                text         intent\n",
       "0   listen to westbam alumb allergic on google music      PlayMusic\n",
       "1         add step to me to the 50 clásicos playlist  AddToPlaylist\n",
       "2  i give this current textbook a rating value of...       RateBook\n",
       "3               play the song little robin redbreast      PlayMusic\n",
       "4  please add iris dement to my playlist this is ...  AddToPlaylist"
      ]
     },
     "metadata": {},
     "output_type": "display_data"
    },
    {
     "name": "stdout",
     "output_type": "stream",
     "text": [
      "Missing per column:\n",
      " text      0\n",
      "intent    0\n",
      "dtype: int64\n",
      "Label counts:\n",
      " intent\n",
      "PlayMusic               1914\n",
      "GetWeather              1896\n",
      "BookRestaurant          1881\n",
      "RateBook                1876\n",
      "SearchScreeningEvent    1852\n",
      "SearchCreativeWork      1847\n",
      "AddToPlaylist           1818\n",
      "Name: count, dtype: int64\n"
     ]
    }
   ],
   "source": [
    " # dataset\n",
    "df = pd.read_csv('train.csv')   # change path if needed\n",
    "\n",
    "# data exploration\n",
    "print(\"Rows:\", len(df))\n",
    "print(\"Columns:\", df.columns.tolist())\n",
    "display(df.head())\n",
    "print(\"Missing per column:\\n\", df.isnull().sum())\n",
    "print(\"Label counts:\\n\", df['intent'].value_counts())"
   ]
  },
  {
   "cell_type": "code",
   "execution_count": 27,
   "id": "98e45845",
   "metadata": {},
   "outputs": [
    {
     "data": {
      "application/vnd.microsoft.datawrangler.viewer.v0+json": {
       "columns": [
        {
         "name": "index",
         "rawType": "int64",
         "type": "integer"
        },
        {
         "name": "text",
         "rawType": "object",
         "type": "string"
        },
        {
         "name": "intent",
         "rawType": "object",
         "type": "string"
        },
        {
         "name": "raw_text",
         "rawType": "object",
         "type": "string"
        }
       ],
       "ref": "054cce9e-4c2d-467e-9a20-27045a98d9d9",
       "rows": [
        [
         "0",
         "listen to westbam alumb allergic on google music",
         "playmusic",
         "listen to westbam alumb allergic on google music"
        ],
        [
         "1",
         "add step to me to the 50 clásicos playlist",
         "addtoplaylist",
         "add step to me to the 50 clásicos playlist"
        ],
        [
         "2",
         "i give this current textbook a rating value of 1 and a best rating of 6",
         "ratebook",
         "i give this current textbook a rating value of 1 and a best rating of 6"
        ],
        [
         "3",
         "play the song little robin redbreast",
         "playmusic",
         "play the song little robin redbreast"
        ],
        [
         "4",
         "please add iris dement to my playlist this is selena",
         "addtoplaylist",
         "please add iris dement to my playlist this is selena"
        ]
       ],
       "shape": {
        "columns": 3,
        "rows": 5
       }
      },
      "text/html": [
       "<div>\n",
       "<style scoped>\n",
       "    .dataframe tbody tr th:only-of-type {\n",
       "        vertical-align: middle;\n",
       "    }\n",
       "\n",
       "    .dataframe tbody tr th {\n",
       "        vertical-align: top;\n",
       "    }\n",
       "\n",
       "    .dataframe thead th {\n",
       "        text-align: right;\n",
       "    }\n",
       "</style>\n",
       "<table border=\"1\" class=\"dataframe\">\n",
       "  <thead>\n",
       "    <tr style=\"text-align: right;\">\n",
       "      <th></th>\n",
       "      <th>text</th>\n",
       "      <th>intent</th>\n",
       "      <th>raw_text</th>\n",
       "    </tr>\n",
       "  </thead>\n",
       "  <tbody>\n",
       "    <tr>\n",
       "      <th>0</th>\n",
       "      <td>listen to westbam alumb allergic on google music</td>\n",
       "      <td>playmusic</td>\n",
       "      <td>listen to westbam alumb allergic on google music</td>\n",
       "    </tr>\n",
       "    <tr>\n",
       "      <th>1</th>\n",
       "      <td>add step to me to the 50 clásicos playlist</td>\n",
       "      <td>addtoplaylist</td>\n",
       "      <td>add step to me to the 50 clásicos playlist</td>\n",
       "    </tr>\n",
       "    <tr>\n",
       "      <th>2</th>\n",
       "      <td>i give this current textbook a rating value of...</td>\n",
       "      <td>ratebook</td>\n",
       "      <td>i give this current textbook a rating value of...</td>\n",
       "    </tr>\n",
       "    <tr>\n",
       "      <th>3</th>\n",
       "      <td>play the song little robin redbreast</td>\n",
       "      <td>playmusic</td>\n",
       "      <td>play the song little robin redbreast</td>\n",
       "    </tr>\n",
       "    <tr>\n",
       "      <th>4</th>\n",
       "      <td>please add iris dement to my playlist this is ...</td>\n",
       "      <td>addtoplaylist</td>\n",
       "      <td>please add iris dement to my playlist this is ...</td>\n",
       "    </tr>\n",
       "  </tbody>\n",
       "</table>\n",
       "</div>"
      ],
      "text/plain": [
       "                                                text         intent  \\\n",
       "0   listen to westbam alumb allergic on google music      playmusic   \n",
       "1         add step to me to the 50 clásicos playlist  addtoplaylist   \n",
       "2  i give this current textbook a rating value of...       ratebook   \n",
       "3               play the song little robin redbreast      playmusic   \n",
       "4  please add iris dement to my playlist this is ...  addtoplaylist   \n",
       "\n",
       "                                            raw_text  \n",
       "0   listen to westbam alumb allergic on google music  \n",
       "1         add step to me to the 50 clásicos playlist  \n",
       "2  i give this current textbook a rating value of...  \n",
       "3               play the song little robin redbreast  \n",
       "4  please add iris dement to my playlist this is ...  "
      ]
     },
     "metadata": {},
     "output_type": "display_data"
    }
   ],
   "source": [
    "# data cleaning\n",
    "df['intent'] = df['intent'].astype(str).str.lower()\n",
    "df['text']   = df['text'].astype(str).str.lower()\n",
    "df['raw_text'] = df['text'].copy()   # keep original\n",
    "\n",
    "display(df.head())"
   ]
  },
  {
   "cell_type": "code",
   "execution_count": 28,
   "id": "db04bc60",
   "metadata": {},
   "outputs": [
    {
     "name": "stdout",
     "output_type": "stream",
     "text": [
      "Num classes: 7\n",
      "label2id: {'addtoplaylist': 0, 'bookrestaurant': 1, 'getweather': 2, 'playmusic': 3, 'ratebook': 4, 'searchcreativework': 5, 'searchscreeningevent': 6}\n"
     ]
    }
   ],
   "source": [
    "# label encoding\n",
    "labels = sorted(df['intent'].unique())\n",
    "label2id = {label: i for i, label in enumerate(labels)}\n",
    "id2label = {i: label for label, i in label2id.items()}\n",
    "df['label'] = df['intent'].map(label2id)\n",
    "\n",
    "print(\"Num classes:\", len(labels))\n",
    "print(\"label2id:\", label2id)"
   ]
  },
  {
   "cell_type": "code",
   "execution_count": 29,
   "id": "b82726cc",
   "metadata": {},
   "outputs": [
    {
     "name": "stdout",
     "output_type": "stream",
     "text": [
      "Train / Test sizes: 200 50\n"
     ]
    }
   ],
   "source": [
    "# train-test split\n",
    "train_df, test_df = train_test_split(\n",
    "    df,\n",
    "    test_size=0.20,\n",
    "    stratify=df['label'],\n",
    "    random_state=42\n",
    ")\n",
    "\n",
    "# Subsample for quick training\n",
    "train_df = train_df.sample(n=200, random_state=42)   # only 200 samples\n",
    "test_df  = test_df.sample(n=50, random_state=42)     # only 50 samples\n",
    "\n",
    "print(\"Train / Test sizes:\", len(train_df), len(test_df))"
   ]
  },
  {
   "cell_type": "code",
   "execution_count": 30,
   "id": "f221da88",
   "metadata": {},
   "outputs": [
    {
     "name": "stdout",
     "output_type": "stream",
     "text": [
      "Dataset({\n",
      "    features: ['text', 'label'],\n",
      "    num_rows: 200\n",
      "}) Dataset({\n",
      "    features: ['text', 'label'],\n",
      "    num_rows: 50\n",
      "})\n"
     ]
    }
   ],
   "source": [
    "# datasets for Huggingface\n",
    "train_ds = Dataset.from_pandas(train_df[['text','label']].reset_index(drop=True))\n",
    "test_ds  = Dataset.from_pandas(test_df[['text','label']].reset_index(drop=True))\n",
    "print(train_ds, test_ds)"
   ]
  },
  {
   "cell_type": "code",
   "execution_count": 31,
   "id": "656099b2",
   "metadata": {},
   "outputs": [
    {
     "name": "stdout",
     "output_type": "stream",
     "text": [
      "Observed max on train: 30 -> using max_length = 30\n"
     ]
    }
   ],
   "source": [
    "# tokenizer and max_length selection\n",
    "tokenizer = DistilBertTokenizer.from_pretrained('distilbert-base-uncased')\n",
    "\n",
    "observed_max = max(len(tokenizer.encode(t, add_special_tokens=True)) for t in train_df['text'])\n",
    "max_length = min(32, observed_max) # using 32 as the text length is generally short\n",
    "print(f\"Observed max on train: {observed_max} -> using max_length = {max_length}\")"
   ]
  },
  {
   "cell_type": "code",
   "execution_count": 32,
   "id": "4767b4dc",
   "metadata": {},
   "outputs": [
    {
     "data": {
      "application/vnd.jupyter.widget-view+json": {
       "model_id": "0910796c7231451eb0cae1145711afce",
       "version_major": 2,
       "version_minor": 0
      },
      "text/plain": [
       "Map:   0%|          | 0/200 [00:00<?, ? examples/s]"
      ]
     },
     "metadata": {},
     "output_type": "display_data"
    },
    {
     "data": {
      "application/vnd.jupyter.widget-view+json": {
       "model_id": "9c74f549c094446c964654f69df49fd2",
       "version_major": 2,
       "version_minor": 0
      },
      "text/plain": [
       "Map:   0%|          | 0/50 [00:00<?, ? examples/s]"
      ]
     },
     "metadata": {},
     "output_type": "display_data"
    },
    {
     "name": "stdout",
     "output_type": "stream",
     "text": [
      "{'label': tensor(6), 'input_ids': tensor([ 101, 2507, 2033, 1996, 3185, 2335,  102,    0,    0,    0,    0,    0,\n",
      "           0,    0,    0,    0,    0,    0,    0,    0,    0,    0,    0,    0,\n",
      "           0,    0,    0,    0,    0,    0]), 'attention_mask': tensor([1, 1, 1, 1, 1, 1, 1, 0, 0, 0, 0, 0, 0, 0, 0, 0, 0, 0, 0, 0, 0, 0, 0, 0,\n",
      "        0, 0, 0, 0, 0, 0])}\n"
     ]
    }
   ],
   "source": [
    "# tokenization\n",
    "def tokenize_fn(examples):\n",
    "    out = tokenizer(examples['text'], padding='max_length', truncation=True, max_length=max_length)\n",
    "    out['label'] = examples['label']\n",
    "    return out\n",
    "\n",
    "# applying tokenization\n",
    "tokenized_train = train_ds.map(tokenize_fn, batched=True, remove_columns=['text'])\n",
    "tokenized_test  = test_ds.map(tokenize_fn, batched=True, remove_columns=['text'])\n",
    "\n",
    "tokenized_train.set_format(type='torch', columns=['input_ids','attention_mask','label'])\n",
    "tokenized_test.set_format(type='torch', columns=['input_ids','attention_mask','label'])\n",
    "\n",
    "print(tokenized_train[0])"
   ]
  },
  {
   "cell_type": "code",
   "execution_count": 33,
   "id": "73dcbcf3",
   "metadata": {},
   "outputs": [
    {
     "name": "stderr",
     "output_type": "stream",
     "text": [
      "Some weights of DistilBertForSequenceClassification were not initialized from the model checkpoint at distilbert-base-uncased and are newly initialized: ['classifier.bias', 'classifier.weight', 'pre_classifier.bias', 'pre_classifier.weight']\n",
      "You should probably TRAIN this model on a down-stream task to be able to use it for predictions and inference.\n"
     ]
    }
   ],
   "source": [
    "# loading the pretrained distilbert model\n",
    "model = DistilBertForSequenceClassification.from_pretrained(\n",
    "    'distilbert-base-uncased',\n",
    "    num_labels=len(labels),\n",
    "    id2label=id2label,\n",
    "    label2id=label2id\n",
    ")"
   ]
  },
  {
   "cell_type": "code",
   "execution_count": 10,
   "id": "8cae925f",
   "metadata": {},
   "outputs": [],
   "source": [
    "# import transformers\n",
    "# print(\"transformers version:\", transformers.__version__)"
   ]
  },
  {
   "cell_type": "code",
   "execution_count": 11,
   "id": "ca660eb8",
   "metadata": {},
   "outputs": [],
   "source": [
    "# !pip install -q -U transformers datasets"
   ]
  },
  {
   "cell_type": "code",
   "execution_count": 12,
   "id": "bfcacf85",
   "metadata": {},
   "outputs": [],
   "source": [
    "# !pip install --upgrade transformers\n"
   ]
  },
  {
   "cell_type": "code",
   "execution_count": 43,
   "id": "0059e952",
   "metadata": {},
   "outputs": [],
   "source": [
    "# training arguments\n",
    "training_args = TrainingArguments(\n",
    "    output_dir='./results',\n",
    "    num_train_epochs=10,\n",
    "    per_device_train_batch_size=4,\n",
    "    per_device_eval_batch_size=32,\n",
    "    gradient_accumulation_steps=2,\n",
    "    learning_rate=2e-5,\n",
    "    # evaluation_strategy=\"epoch\",\n",
    "    # save_strategy=\"epoch\",\n",
    "    logging_steps=100,\n",
    "    # load_best_model_at_end=True,\n",
    "    # metric_for_best_model=\"accuracy\",\n",
    "    save_total_limit=2,\n",
    "    save_safetensors=False\n",
    ")"
   ]
  },
  {
   "cell_type": "code",
   "execution_count": 44,
   "id": "c7413942",
   "metadata": {},
   "outputs": [
    {
     "name": "stderr",
     "output_type": "stream",
     "text": [
      "C:\\Users\\DC\\AppData\\Local\\Temp\\ipykernel_14848\\221096109.py:16: FutureWarning: `tokenizer` is deprecated and will be removed in version 5.0.0 for `Trainer.__init__`. Use `processing_class` instead.\n",
      "  trainer = Trainer(\n",
      "c:\\Users\\DC\\miniconda3\\envs\\PT_env\\Lib\\site-packages\\transformers\\utils\\generic.py:278: FutureWarning: The input object of type 'Tensor' is an array-like implementing one of the corresponding protocols (`__array__`, `__array_interface__` or `__array_struct__`); but not a sequence (or 0-D). In the future, this object will be coerced as if it was first converted using `np.array(obj)`. To retain the old behaviour, you have to either modify the type 'Tensor', or assign to an empty array created with `np.empty(correct_shape, dtype=object)`.\n",
      "  arr = np.array(obj)\n"
     ]
    },
    {
     "data": {
      "text/html": [
       "\n",
       "    <div>\n",
       "      \n",
       "      <progress value='250' max='250' style='width:300px; height:20px; vertical-align: middle;'></progress>\n",
       "      [250/250 06:27, Epoch 10/10]\n",
       "    </div>\n",
       "    <table border=\"1\" class=\"dataframe\">\n",
       "  <thead>\n",
       " <tr style=\"text-align: left;\">\n",
       "      <th>Step</th>\n",
       "      <th>Training Loss</th>\n",
       "    </tr>\n",
       "  </thead>\n",
       "  <tbody>\n",
       "    <tr>\n",
       "      <td>100</td>\n",
       "      <td>0.028300</td>\n",
       "    </tr>\n",
       "    <tr>\n",
       "      <td>200</td>\n",
       "      <td>0.009400</td>\n",
       "    </tr>\n",
       "  </tbody>\n",
       "</table><p>"
      ],
      "text/plain": [
       "<IPython.core.display.HTML object>"
      ]
     },
     "metadata": {},
     "output_type": "display_data"
    },
    {
     "data": {
      "text/plain": [
       "TrainOutput(global_step=250, training_loss=0.01662359058856964, metrics={'train_runtime': 390.8325, 'train_samples_per_second': 5.117, 'train_steps_per_second': 0.64, 'total_flos': 15524907480000.0, 'train_loss': 0.01662359058856964, 'epoch': 10.0})"
      ]
     },
     "execution_count": 44,
     "metadata": {},
     "output_type": "execute_result"
    }
   ],
   "source": [
    "# metrics\n",
    "def compute_metrics(eval_pred):\n",
    "    logits, labels = eval_pred\n",
    "    predictions = logits.argmax(axis=-1)\n",
    "    precision, recall, f1, _ = precision_recall_fscore_support(labels, predictions, average=\"weighted\")\n",
    "    acc = accuracy_score(labels, predictions)\n",
    "    return {\n",
    "        \"accuracy\": acc,\n",
    "        \"f1\": f1,\n",
    "        \"precision\": precision,\n",
    "        \"recall\": recall\n",
    "    }\n",
    "\n",
    "\n",
    "# trainer\n",
    "trainer = Trainer(\n",
    "    model=model,\n",
    "    args=training_args,\n",
    "    train_dataset=tokenized_train,\n",
    "    eval_dataset=tokenized_test,\n",
    "    tokenizer=tokenizer,\n",
    "    compute_metrics=compute_metrics\n",
    ")\n",
    "\n",
    "trainer.train()"
   ]
  },
  {
   "cell_type": "code",
   "execution_count": 45,
   "id": "ac1f531d",
   "metadata": {},
   "outputs": [
    {
     "name": "stderr",
     "output_type": "stream",
     "text": [
      "c:\\Users\\DC\\miniconda3\\envs\\PT_env\\Lib\\site-packages\\transformers\\utils\\generic.py:278: FutureWarning: The input object of type 'Tensor' is an array-like implementing one of the corresponding protocols (`__array__`, `__array_interface__` or `__array_struct__`); but not a sequence (or 0-D). In the future, this object will be coerced as if it was first converted using `np.array(obj)`. To retain the old behaviour, you have to either modify the type 'Tensor', or assign to an empty array created with `np.empty(correct_shape, dtype=object)`.\n",
      "  arr = np.array(obj)\n"
     ]
    },
    {
     "data": {
      "text/html": [],
      "text/plain": [
       "<IPython.core.display.HTML object>"
      ]
     },
     "metadata": {},
     "output_type": "display_data"
    },
    {
     "name": "stdout",
     "output_type": "stream",
     "text": [
      "Eval metrics: {'eval_loss': 0.1615656018257141, 'eval_accuracy': 0.94, 'eval_f1': 0.9399750892382472, 'eval_precision': 0.9493333333333334, 'eval_recall': 0.94, 'eval_runtime': 3.5013, 'eval_samples_per_second': 14.28, 'eval_steps_per_second': 0.571, 'epoch': 10.0}\n"
     ]
    },
    {
     "name": "stderr",
     "output_type": "stream",
     "text": [
      "c:\\Users\\DC\\miniconda3\\envs\\PT_env\\Lib\\site-packages\\transformers\\utils\\generic.py:278: FutureWarning: The input object of type 'Tensor' is an array-like implementing one of the corresponding protocols (`__array__`, `__array_interface__` or `__array_struct__`); but not a sequence (or 0-D). In the future, this object will be coerced as if it was first converted using `np.array(obj)`. To retain the old behaviour, you have to either modify the type 'Tensor', or assign to an empty array created with `np.empty(correct_shape, dtype=object)`.\n",
      "  arr = np.array(obj)\n"
     ]
    },
    {
     "name": "stdout",
     "output_type": "stream",
     "text": [
      "                      precision    recall  f1-score   support\n",
      "\n",
      "       addtoplaylist       1.00      1.00      1.00         9\n",
      "      bookrestaurant       0.90      1.00      0.95         9\n",
      "          getweather       0.80      1.00      0.89         4\n",
      "           playmusic       0.83      1.00      0.91         5\n",
      "            ratebook       1.00      0.75      0.86         4\n",
      "  searchcreativework       1.00      0.91      0.95        11\n",
      "searchscreeningevent       1.00      0.88      0.93         8\n",
      "\n",
      "            accuracy                           0.94        50\n",
      "           macro avg       0.93      0.93      0.93        50\n",
      "        weighted avg       0.95      0.94      0.94        50\n",
      "\n"
     ]
    },
    {
     "data": {
      "text/plain": [
       "('./distilbert-finetuned\\\\tokenizer_config.json',\n",
       " './distilbert-finetuned\\\\special_tokens_map.json',\n",
       " './distilbert-finetuned\\\\vocab.txt',\n",
       " './distilbert-finetuned\\\\added_tokens.json')"
      ]
     },
     "execution_count": 45,
     "metadata": {},
     "output_type": "execute_result"
    }
   ],
   "source": [
    "# evaluation & report\n",
    "eval_res = trainer.evaluate()\n",
    "print(\"Eval metrics:\", eval_res)\n",
    "\n",
    "preds_out = trainer.predict(tokenized_test)\n",
    "y_true = preds_out.label_ids\n",
    "y_pred = preds_out.predictions.argmax(axis=1)\n",
    "\n",
    "from sklearn.metrics import classification_report\n",
    "print(classification_report(y_true, y_pred, target_names=labels))\n",
    "\n",
    "# save\n",
    "trainer.save_model(\"./distilbert-finetuned\")\n",
    "tokenizer.save_pretrained(\"./distilbert-finetuned\")\n"
   ]
  },
  {
   "cell_type": "code",
   "execution_count": 50,
   "id": "a773a192",
   "metadata": {},
   "outputs": [
    {
     "name": "stdout",
     "output_type": "stream",
     "text": [
      "Text: i want to bring four people to a place that s close to downtown that serves churrascaria cuisine\n",
      "Predicted intent: bookrestaurant\n",
      "----\n",
      "Text: what is the weather like today\n",
      "Predicted intent: getweather\n",
      "----\n",
      "Text: play some music\n",
      "Predicted intent: playmusic\n",
      "----\n"
     ]
    }
   ],
   "source": [
    "# Load the fine-tuned model and tokenizer\n",
    "model_path = \"./distilbert-finetuned\"\n",
    "tokenizer = DistilBertTokenizer.from_pretrained(model_path)\n",
    "model = DistilBertForSequenceClassification.from_pretrained(model_path)\n",
    "\n",
    "# Map back labels (use the same mapping from training)\n",
    "id2label = model.config.id2label\n",
    "\n",
    "# Function to classify a new text\n",
    "def predict_intent(text):\n",
    "    inputs = tokenizer(text, return_tensors=\"pt\", truncation=True, padding=True)\n",
    "    with torch.no_grad():\n",
    "        outputs = model(**inputs)\n",
    "        predicted_class = torch.argmax(outputs.logits, dim=1).item()\n",
    "    return id2label[predicted_class]\n",
    "\n",
    "# Testing with some examples\n",
    "examples = [\n",
    "    \"i want to bring four people to a place that s close to downtown that serves churrascaria cuisine\",\n",
    "    \"what is the weather like today\",\n",
    "    \"play some music\",\n",
    "]\n",
    "\n",
    "for text in examples:\n",
    "    print(f\"Text: {text}\")\n",
    "    print(f\"Predicted intent: {predict_intent(text)}\")\n",
    "    print(\"----\")\n"
   ]
  }
 ],
 "metadata": {
  "kernelspec": {
   "display_name": "PT_env",
   "language": "python",
   "name": "python3"
  },
  "language_info": {
   "codemirror_mode": {
    "name": "ipython",
    "version": 3
   },
   "file_extension": ".py",
   "mimetype": "text/x-python",
   "name": "python",
   "nbconvert_exporter": "python",
   "pygments_lexer": "ipython3",
   "version": "3.11.9"
  }
 },
 "nbformat": 4,
 "nbformat_minor": 5
}
