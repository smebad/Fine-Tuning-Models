{
 "cells": [
  {
   "cell_type": "markdown",
   "id": "3bcedf00",
   "metadata": {},
   "source": [
    "### Fine-tuning DistilBERT for Text Classification"
   ]
  },
  {
   "cell_type": "code",
   "execution_count": 1,
   "id": "f79b851a",
   "metadata": {},
   "outputs": [],
   "source": [
    "# libraries\n",
    "import pandas as pd\n",
    "import torch\n",
    "from transformers import DistilBertTokenizer, DistilBertForSequenceClassification, Trainer, TrainingArguments\n",
    "from sklearn.model_selection import train_test_split\n",
    "from sklearn.metrics import classification_report, confusion_matrix\n",
    "from datasets import Dataset\n",
    "\n",
    "import nltk\n",
    "from nltk.corpus import stopwords"
   ]
  },
  {
   "cell_type": "code",
   "execution_count": 17,
   "id": "eeab4bd9",
   "metadata": {},
   "outputs": [
    {
     "name": "stdout",
     "output_type": "stream",
     "text": [
      "Rows: 13084\n",
      "Columns: ['text', 'intent']\n"
     ]
    },
    {
     "data": {
      "application/vnd.microsoft.datawrangler.viewer.v0+json": {
       "columns": [
        {
         "name": "index",
         "rawType": "int64",
         "type": "integer"
        },
        {
         "name": "text",
         "rawType": "object",
         "type": "string"
        },
        {
         "name": "intent",
         "rawType": "object",
         "type": "string"
        }
       ],
       "ref": "6bba35e3-ede7-4b84-9595-b05603446026",
       "rows": [
        [
         "0",
         "listen to westbam alumb allergic on google music",
         "PlayMusic"
        ],
        [
         "1",
         "add step to me to the 50 clásicos playlist",
         "AddToPlaylist"
        ],
        [
         "2",
         "i give this current textbook a rating value of 1 and a best rating of 6",
         "RateBook"
        ],
        [
         "3",
         "play the song little robin redbreast",
         "PlayMusic"
        ],
        [
         "4",
         "please add iris dement to my playlist this is selena",
         "AddToPlaylist"
        ]
       ],
       "shape": {
        "columns": 2,
        "rows": 5
       }
      },
      "text/html": [
       "<div>\n",
       "<style scoped>\n",
       "    .dataframe tbody tr th:only-of-type {\n",
       "        vertical-align: middle;\n",
       "    }\n",
       "\n",
       "    .dataframe tbody tr th {\n",
       "        vertical-align: top;\n",
       "    }\n",
       "\n",
       "    .dataframe thead th {\n",
       "        text-align: right;\n",
       "    }\n",
       "</style>\n",
       "<table border=\"1\" class=\"dataframe\">\n",
       "  <thead>\n",
       "    <tr style=\"text-align: right;\">\n",
       "      <th></th>\n",
       "      <th>text</th>\n",
       "      <th>intent</th>\n",
       "    </tr>\n",
       "  </thead>\n",
       "  <tbody>\n",
       "    <tr>\n",
       "      <th>0</th>\n",
       "      <td>listen to westbam alumb allergic on google music</td>\n",
       "      <td>PlayMusic</td>\n",
       "    </tr>\n",
       "    <tr>\n",
       "      <th>1</th>\n",
       "      <td>add step to me to the 50 clásicos playlist</td>\n",
       "      <td>AddToPlaylist</td>\n",
       "    </tr>\n",
       "    <tr>\n",
       "      <th>2</th>\n",
       "      <td>i give this current textbook a rating value of...</td>\n",
       "      <td>RateBook</td>\n",
       "    </tr>\n",
       "    <tr>\n",
       "      <th>3</th>\n",
       "      <td>play the song little robin redbreast</td>\n",
       "      <td>PlayMusic</td>\n",
       "    </tr>\n",
       "    <tr>\n",
       "      <th>4</th>\n",
       "      <td>please add iris dement to my playlist this is ...</td>\n",
       "      <td>AddToPlaylist</td>\n",
       "    </tr>\n",
       "  </tbody>\n",
       "</table>\n",
       "</div>"
      ],
      "text/plain": [
       "                                                text         intent\n",
       "0   listen to westbam alumb allergic on google music      PlayMusic\n",
       "1         add step to me to the 50 clásicos playlist  AddToPlaylist\n",
       "2  i give this current textbook a rating value of...       RateBook\n",
       "3               play the song little robin redbreast      PlayMusic\n",
       "4  please add iris dement to my playlist this is ...  AddToPlaylist"
      ]
     },
     "metadata": {},
     "output_type": "display_data"
    },
    {
     "name": "stdout",
     "output_type": "stream",
     "text": [
      "Missing per column:\n",
      " text      0\n",
      "intent    0\n",
      "dtype: int64\n",
      "Label counts:\n",
      " intent\n",
      "PlayMusic               1914\n",
      "GetWeather              1896\n",
      "BookRestaurant          1881\n",
      "RateBook                1876\n",
      "SearchScreeningEvent    1852\n",
      "SearchCreativeWork      1847\n",
      "AddToPlaylist           1818\n",
      "Name: count, dtype: int64\n"
     ]
    }
   ],
   "source": [
    " # dataset\n",
    "df = pd.read_csv('train.csv')   # change path if needed\n",
    "\n",
    "# data exploration\n",
    "print(\"Rows:\", len(df))\n",
    "print(\"Columns:\", df.columns.tolist())\n",
    "display(df.head())\n",
    "print(\"Missing per column:\\n\", df.isnull().sum())\n",
    "print(\"Label counts:\\n\", df['intent'].value_counts())"
   ]
  },
  {
   "cell_type": "code",
   "execution_count": 18,
   "id": "98e45845",
   "metadata": {},
   "outputs": [
    {
     "data": {
      "application/vnd.microsoft.datawrangler.viewer.v0+json": {
       "columns": [
        {
         "name": "index",
         "rawType": "int64",
         "type": "integer"
        },
        {
         "name": "text",
         "rawType": "object",
         "type": "string"
        },
        {
         "name": "intent",
         "rawType": "object",
         "type": "string"
        },
        {
         "name": "raw_text",
         "rawType": "object",
         "type": "string"
        }
       ],
       "ref": "11a9120e-1ed7-4c33-88b6-4c589d9502cc",
       "rows": [
        [
         "0",
         "listen to westbam alumb allergic on google music",
         "playmusic",
         "listen to westbam alumb allergic on google music"
        ],
        [
         "1",
         "add step to me to the 50 clásicos playlist",
         "addtoplaylist",
         "add step to me to the 50 clásicos playlist"
        ],
        [
         "2",
         "i give this current textbook a rating value of 1 and a best rating of 6",
         "ratebook",
         "i give this current textbook a rating value of 1 and a best rating of 6"
        ],
        [
         "3",
         "play the song little robin redbreast",
         "playmusic",
         "play the song little robin redbreast"
        ],
        [
         "4",
         "please add iris dement to my playlist this is selena",
         "addtoplaylist",
         "please add iris dement to my playlist this is selena"
        ]
       ],
       "shape": {
        "columns": 3,
        "rows": 5
       }
      },
      "text/html": [
       "<div>\n",
       "<style scoped>\n",
       "    .dataframe tbody tr th:only-of-type {\n",
       "        vertical-align: middle;\n",
       "    }\n",
       "\n",
       "    .dataframe tbody tr th {\n",
       "        vertical-align: top;\n",
       "    }\n",
       "\n",
       "    .dataframe thead th {\n",
       "        text-align: right;\n",
       "    }\n",
       "</style>\n",
       "<table border=\"1\" class=\"dataframe\">\n",
       "  <thead>\n",
       "    <tr style=\"text-align: right;\">\n",
       "      <th></th>\n",
       "      <th>text</th>\n",
       "      <th>intent</th>\n",
       "      <th>raw_text</th>\n",
       "    </tr>\n",
       "  </thead>\n",
       "  <tbody>\n",
       "    <tr>\n",
       "      <th>0</th>\n",
       "      <td>listen to westbam alumb allergic on google music</td>\n",
       "      <td>playmusic</td>\n",
       "      <td>listen to westbam alumb allergic on google music</td>\n",
       "    </tr>\n",
       "    <tr>\n",
       "      <th>1</th>\n",
       "      <td>add step to me to the 50 clásicos playlist</td>\n",
       "      <td>addtoplaylist</td>\n",
       "      <td>add step to me to the 50 clásicos playlist</td>\n",
       "    </tr>\n",
       "    <tr>\n",
       "      <th>2</th>\n",
       "      <td>i give this current textbook a rating value of...</td>\n",
       "      <td>ratebook</td>\n",
       "      <td>i give this current textbook a rating value of...</td>\n",
       "    </tr>\n",
       "    <tr>\n",
       "      <th>3</th>\n",
       "      <td>play the song little robin redbreast</td>\n",
       "      <td>playmusic</td>\n",
       "      <td>play the song little robin redbreast</td>\n",
       "    </tr>\n",
       "    <tr>\n",
       "      <th>4</th>\n",
       "      <td>please add iris dement to my playlist this is ...</td>\n",
       "      <td>addtoplaylist</td>\n",
       "      <td>please add iris dement to my playlist this is ...</td>\n",
       "    </tr>\n",
       "  </tbody>\n",
       "</table>\n",
       "</div>"
      ],
      "text/plain": [
       "                                                text         intent  \\\n",
       "0   listen to westbam alumb allergic on google music      playmusic   \n",
       "1         add step to me to the 50 clásicos playlist  addtoplaylist   \n",
       "2  i give this current textbook a rating value of...       ratebook   \n",
       "3               play the song little robin redbreast      playmusic   \n",
       "4  please add iris dement to my playlist this is ...  addtoplaylist   \n",
       "\n",
       "                                            raw_text  \n",
       "0   listen to westbam alumb allergic on google music  \n",
       "1         add step to me to the 50 clásicos playlist  \n",
       "2  i give this current textbook a rating value of...  \n",
       "3               play the song little robin redbreast  \n",
       "4  please add iris dement to my playlist this is ...  "
      ]
     },
     "metadata": {},
     "output_type": "display_data"
    }
   ],
   "source": [
    "# data cleaning\n",
    "df['intent'] = df['intent'].astype(str).str.lower()\n",
    "df['text']   = df['text'].astype(str).str.lower()\n",
    "df['raw_text'] = df['text'].copy()   # keep original\n",
    "\n",
    "display(df.head())"
   ]
  },
  {
   "cell_type": "code",
   "execution_count": null,
   "id": "db04bc60",
   "metadata": {},
   "outputs": [
    {
     "name": "stdout",
     "output_type": "stream",
     "text": [
      "Num classes: 7\n",
      "label2id: {'addtoplaylist': 0, 'bookrestaurant': 1, 'getweather': 2, 'playmusic': 3, 'ratebook': 4, 'searchcreativework': 5, 'searchscreeningevent': 6}\n"
     ]
    }
   ],
   "source": [
    "# label encoding\n",
    "labels = sorted(df['intent'].unique())\n",
    "label2id = {label: i for i, label in enumerate(labels)}\n",
    "id2label = {i: label for label, i in label2id.items()}\n",
    "df['label'] = df['intent'].map(label2id)\n",
    "\n",
    "print(\"Num classes:\", len(labels))\n",
    "print(\"label2id:\", label2id)"
   ]
  },
  {
   "cell_type": "code",
   "execution_count": 20,
   "id": "b82726cc",
   "metadata": {},
   "outputs": [
    {
     "name": "stdout",
     "output_type": "stream",
     "text": [
      "Train / Test sizes: 10467 2617\n"
     ]
    }
   ],
   "source": [
    "# train-test split\n",
    "train_df, test_df = train_test_split(\n",
    "    df,\n",
    "    test_size=0.20,\n",
    "    stratify=df['label'],\n",
    "    random_state=42\n",
    ")\n",
    "\n",
    "print(\"Train / Test sizes:\", len(train_df), len(test_df))"
   ]
  },
  {
   "cell_type": "code",
   "execution_count": 21,
   "id": "f221da88",
   "metadata": {},
   "outputs": [
    {
     "name": "stdout",
     "output_type": "stream",
     "text": [
      "Dataset({\n",
      "    features: ['text', 'label'],\n",
      "    num_rows: 10467\n",
      "}) Dataset({\n",
      "    features: ['text', 'label'],\n",
      "    num_rows: 2617\n",
      "})\n"
     ]
    }
   ],
   "source": [
    "# datasets for Huggingface\n",
    "train_ds = Dataset.from_pandas(train_df[['text','label']].reset_index(drop=True))\n",
    "test_ds  = Dataset.from_pandas(test_df[['text','label']].reset_index(drop=True))\n",
    "print(train_ds, test_ds)"
   ]
  },
  {
   "cell_type": "code",
   "execution_count": 22,
   "id": "656099b2",
   "metadata": {},
   "outputs": [
    {
     "name": "stdout",
     "output_type": "stream",
     "text": [
      "Observed max on train: 37 -> using max_length = 32\n"
     ]
    }
   ],
   "source": [
    "# tokenizer and max_length selection\n",
    "tokenizer = DistilBertTokenizer.from_pretrained('distilbert-base-uncased')\n",
    "\n",
    "observed_max = max(len(tokenizer.encode(t, add_special_tokens=True)) for t in train_df['text'])\n",
    "max_length = min(32, observed_max) # using 32 as the text length is generally short\n",
    "print(f\"Observed max on train: {observed_max} -> using max_length = {max_length}\")"
   ]
  },
  {
   "cell_type": "code",
   "execution_count": 23,
   "id": "4767b4dc",
   "metadata": {},
   "outputs": [
    {
     "data": {
      "application/vnd.jupyter.widget-view+json": {
       "model_id": "f4a0421979c945bfb56e90f49f75a786",
       "version_major": 2,
       "version_minor": 0
      },
      "text/plain": [
       "Map:   0%|          | 0/10467 [00:00<?, ? examples/s]"
      ]
     },
     "metadata": {},
     "output_type": "display_data"
    },
    {
     "data": {
      "application/vnd.jupyter.widget-view+json": {
       "model_id": "100e2af7dd7d4f11b9b1182457c2c54a",
       "version_major": 2,
       "version_minor": 0
      },
      "text/plain": [
       "Map:   0%|          | 0/2617 [00:00<?, ? examples/s]"
      ]
     },
     "metadata": {},
     "output_type": "display_data"
    },
    {
     "name": "stdout",
     "output_type": "stream",
     "text": [
      "{'label': tensor(2), 'input_ids': tensor([ 101, 2003, 2009, 2183, 2000, 2022, 2980, 1999, 3782, 2386,  102,    0,\n",
      "           0,    0,    0,    0,    0,    0,    0,    0,    0,    0,    0,    0,\n",
      "           0,    0,    0,    0,    0,    0,    0,    0]), 'attention_mask': tensor([1, 1, 1, 1, 1, 1, 1, 1, 1, 1, 1, 0, 0, 0, 0, 0, 0, 0, 0, 0, 0, 0, 0, 0,\n",
      "        0, 0, 0, 0, 0, 0, 0, 0])}\n"
     ]
    }
   ],
   "source": [
    "# tokenization\n",
    "def tokenize_fn(examples):\n",
    "    out = tokenizer(examples['text'], padding='max_length', truncation=True, max_length=max_length)\n",
    "    out['label'] = examples['label']\n",
    "    return out\n",
    "\n",
    "# applying tokenization\n",
    "tokenized_train = train_ds.map(tokenize_fn, batched=True, remove_columns=['text'])\n",
    "tokenized_test  = test_ds.map(tokenize_fn, batched=True, remove_columns=['text'])\n",
    "\n",
    "tokenized_train.set_format(type='torch', columns=['input_ids','attention_mask','label'])\n",
    "tokenized_test.set_format(type='torch', columns=['input_ids','attention_mask','label'])\n",
    "\n",
    "print(tokenized_train[0])"
   ]
  }
 ],
 "metadata": {
  "kernelspec": {
   "display_name": "PT_env",
   "language": "python",
   "name": "python3"
  },
  "language_info": {
   "codemirror_mode": {
    "name": "ipython",
    "version": 3
   },
   "file_extension": ".py",
   "mimetype": "text/x-python",
   "name": "python",
   "nbconvert_exporter": "python",
   "pygments_lexer": "ipython3",
   "version": "3.11.9"
  }
 },
 "nbformat": 4,
 "nbformat_minor": 5
}
