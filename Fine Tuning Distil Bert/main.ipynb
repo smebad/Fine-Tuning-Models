{
 "cells": [
  {
   "cell_type": "markdown",
   "id": "3bcedf00",
   "metadata": {},
   "source": [
    "### Fine-tuning DistilBERT for Text Classification"
   ]
  },
  {
   "cell_type": "code",
   "execution_count": 1,
   "id": "f79b851a",
   "metadata": {},
   "outputs": [],
   "source": [
    "# libraries\n",
    "import pandas as pd\n",
    "import torch\n",
    "from transformers import DistilBertTokenizer, DistilBertForSequenceClassification, Trainer, TrainingArguments\n",
    "from sklearn.model_selection import train_test_split\n",
    "from sklearn.metrics import classification_report, confusion_matrix\n",
    "from datasets import Dataset\n",
    "\n",
    "import nltk\n",
    "from nltk.corpus import stopwords"
   ]
  },
  {
   "cell_type": "code",
   "execution_count": 12,
   "id": "19bfd9dc",
   "metadata": {},
   "outputs": [
    {
     "data": {
      "application/vnd.microsoft.datawrangler.viewer.v0+json": {
       "columns": [
        {
         "name": "index",
         "rawType": "int64",
         "type": "integer"
        },
        {
         "name": "text",
         "rawType": "object",
         "type": "string"
        },
        {
         "name": "intent",
         "rawType": "object",
         "type": "string"
        }
       ],
       "ref": "18720eed-2096-4d89-a5d0-d7639f50fe00",
       "rows": [
        [
         "0",
         "listen to westbam alumb allergic on google music",
         "PlayMusic"
        ],
        [
         "1",
         "add step to me to the 50 clásicos playlist",
         "AddToPlaylist"
        ],
        [
         "2",
         "i give this current textbook a rating value of 1 and a best rating of 6",
         "RateBook"
        ],
        [
         "3",
         "play the song little robin redbreast",
         "PlayMusic"
        ],
        [
         "4",
         "please add iris dement to my playlist this is selena",
         "AddToPlaylist"
        ],
        [
         "5",
         "add slimm cutta calhoun to my this is prince playlist",
         "AddToPlaylist"
        ],
        [
         "6",
         "i want to listen to seventies music",
         "PlayMusic"
        ],
        [
         "7",
         "play a popular chant by brian epstein",
         "PlayMusic"
        ],
        [
         "8",
         "find fish story",
         "SearchScreeningEvent"
        ],
        [
         "9",
         "book a spot for 3 in mt",
         "BookRestaurant"
        ],
        [
         "10",
         "i need a forecast for jetmore  massachusetts in 1 hour and 1 second from now",
         "GetWeather"
        ],
        [
         "11",
         "rate this series a 5",
         "RateBook"
        ],
        [
         "12",
         "give me a list of movie times for films in the area",
         "SearchScreeningEvent"
        ],
        [
         "13",
         "can you play me some eighties music by adele",
         "PlayMusic"
        ],
        [
         "14",
         "please let me know the weather forcast of stanislaus national forest far in nine months",
         "GetWeather"
        ],
        [
         "15",
         "book a restaurant for eight people in six years",
         "BookRestaurant"
        ],
        [
         "16",
         "i need to book a restaurant in fork mountain  sc for valarie  mari and i",
         "BookRestaurant"
        ],
        [
         "17",
         "add to playlist confidence boost here comes santa claus",
         "AddToPlaylist"
        ],
        [
         "18",
         "book a restaurant at sixteen o clock in sc",
         "BookRestaurant"
        ],
        [
         "19",
         "add another artist to the spotlight on country 2016 playlist",
         "AddToPlaylist"
        ],
        [
         "20",
         "find a movie house showing cage without a key",
         "SearchScreeningEvent"
        ],
        [
         "21",
         "add sugarolly days to my list  your favorite slaughterhouse",
         "AddToPlaylist"
        ],
        [
         "22",
         "show me the picture creatures of light and darkness",
         "SearchCreativeWork"
        ],
        [
         "23",
         "search for the adventures of cookie & cream",
         "SearchCreativeWork"
        ],
        [
         "24",
         "add this track to my global funk",
         "AddToPlaylist"
        ],
        [
         "25",
         "find animated movies nearest at a movie house",
         "SearchScreeningEvent"
        ],
        [
         "26",
         "play hell house song",
         "SearchCreativeWork"
        ],
        [
         "27",
         "give this novel 5 stars",
         "RateBook"
        ],
        [
         "28",
         "find me showtimes for animated movies in the neighbourhood",
         "SearchScreeningEvent"
        ],
        [
         "29",
         "find movie times",
         "SearchScreeningEvent"
        ],
        [
         "30",
         "play the top-20 best chicane songs on deezer",
         "PlayMusic"
        ],
        [
         "31",
         "i want to give this current textbook 4 points",
         "RateBook"
        ],
        [
         "32",
         "add manuelita to my indiespensables playlist",
         "AddToPlaylist"
        ],
        [
         "33",
         "show movie schedules for douglas theatre company",
         "SearchScreeningEvent"
        ],
        [
         "34",
         "i d like to see the show onion sportsdome",
         "SearchCreativeWork"
        ],
        [
         "35",
         "i d like to go to the popular bistro in oh",
         "BookRestaurant"
        ],
        [
         "36",
         "what s the weather in my current spot the day after tomorrow",
         "GetWeather"
        ],
        [
         "37",
         "play playlist the realest down south",
         "PlayMusic"
        ],
        [
         "38",
         "add this artist to gretchen s soul revived playlist",
         "AddToPlaylist"
        ],
        [
         "39",
         "find a video game called victory march",
         "SearchCreativeWork"
        ],
        [
         "40",
         "find a novel called industry",
         "SearchCreativeWork"
        ],
        [
         "41",
         "book a taverna that serves vichyssoise within walking distance in oh",
         "BookRestaurant"
        ],
        [
         "42",
         "let me see the movie schedule for seed of chucky",
         "SearchScreeningEvent"
        ],
        [
         "43",
         "play a chant by mj cole",
         "PlayMusic"
        ],
        [
         "44",
         "what is the weather like in the city of frewen in the country of venezuela",
         "GetWeather"
        ],
        [
         "45",
         "put this song on my playlist  in the name of blues",
         "AddToPlaylist"
        ],
        [
         "46",
         "will it be colder in ohio",
         "GetWeather"
        ],
        [
         "47",
         "rate this album a 1",
         "RateBook"
        ],
        [
         "48",
         "in the area find some films",
         "SearchScreeningEvent"
        ],
        [
         "49",
         "what times will the young swordsman be showing at a local cinema",
         "SearchScreeningEvent"
        ]
       ],
       "shape": {
        "columns": 2,
        "rows": 13084
       }
      },
      "text/html": [
       "<div>\n",
       "<style scoped>\n",
       "    .dataframe tbody tr th:only-of-type {\n",
       "        vertical-align: middle;\n",
       "    }\n",
       "\n",
       "    .dataframe tbody tr th {\n",
       "        vertical-align: top;\n",
       "    }\n",
       "\n",
       "    .dataframe thead th {\n",
       "        text-align: right;\n",
       "    }\n",
       "</style>\n",
       "<table border=\"1\" class=\"dataframe\">\n",
       "  <thead>\n",
       "    <tr style=\"text-align: right;\">\n",
       "      <th></th>\n",
       "      <th>text</th>\n",
       "      <th>intent</th>\n",
       "    </tr>\n",
       "  </thead>\n",
       "  <tbody>\n",
       "    <tr>\n",
       "      <th>0</th>\n",
       "      <td>listen to westbam alumb allergic on google music</td>\n",
       "      <td>PlayMusic</td>\n",
       "    </tr>\n",
       "    <tr>\n",
       "      <th>1</th>\n",
       "      <td>add step to me to the 50 clásicos playlist</td>\n",
       "      <td>AddToPlaylist</td>\n",
       "    </tr>\n",
       "    <tr>\n",
       "      <th>2</th>\n",
       "      <td>i give this current textbook a rating value of...</td>\n",
       "      <td>RateBook</td>\n",
       "    </tr>\n",
       "    <tr>\n",
       "      <th>3</th>\n",
       "      <td>play the song little robin redbreast</td>\n",
       "      <td>PlayMusic</td>\n",
       "    </tr>\n",
       "    <tr>\n",
       "      <th>4</th>\n",
       "      <td>please add iris dement to my playlist this is ...</td>\n",
       "      <td>AddToPlaylist</td>\n",
       "    </tr>\n",
       "    <tr>\n",
       "      <th>...</th>\n",
       "      <td>...</td>\n",
       "      <td>...</td>\n",
       "    </tr>\n",
       "    <tr>\n",
       "      <th>13079</th>\n",
       "      <td>i want to eat choucroute at a brasserie for 8</td>\n",
       "      <td>BookRestaurant</td>\n",
       "    </tr>\n",
       "    <tr>\n",
       "      <th>13080</th>\n",
       "      <td>play funky heavy bluesy</td>\n",
       "      <td>PlayMusic</td>\n",
       "    </tr>\n",
       "    <tr>\n",
       "      <th>13081</th>\n",
       "      <td>rate the current album 2 points out of 6</td>\n",
       "      <td>RateBook</td>\n",
       "    </tr>\n",
       "    <tr>\n",
       "      <th>13082</th>\n",
       "      <td>go to the photograph the inflated tear</td>\n",
       "      <td>SearchCreativeWork</td>\n",
       "    </tr>\n",
       "    <tr>\n",
       "      <th>13083</th>\n",
       "      <td>rate richard carvel 4 out of 6</td>\n",
       "      <td>RateBook</td>\n",
       "    </tr>\n",
       "  </tbody>\n",
       "</table>\n",
       "<p>13084 rows × 2 columns</p>\n",
       "</div>"
      ],
      "text/plain": [
       "                                                    text              intent\n",
       "0       listen to westbam alumb allergic on google music           PlayMusic\n",
       "1             add step to me to the 50 clásicos playlist       AddToPlaylist\n",
       "2      i give this current textbook a rating value of...            RateBook\n",
       "3                   play the song little robin redbreast           PlayMusic\n",
       "4      please add iris dement to my playlist this is ...       AddToPlaylist\n",
       "...                                                  ...                 ...\n",
       "13079      i want to eat choucroute at a brasserie for 8      BookRestaurant\n",
       "13080                            play funky heavy bluesy           PlayMusic\n",
       "13081           rate the current album 2 points out of 6            RateBook\n",
       "13082             go to the photograph the inflated tear  SearchCreativeWork\n",
       "13083                     rate richard carvel 4 out of 6            RateBook\n",
       "\n",
       "[13084 rows x 2 columns]"
      ]
     },
     "execution_count": 12,
     "metadata": {},
     "output_type": "execute_result"
    }
   ],
   "source": [
    "# load dataset\n",
    "df = pd.read_csv('train.csv')\n",
    "df"
   ]
  },
  {
   "cell_type": "code",
   "execution_count": null,
   "id": "4f8a01c6",
   "metadata": {},
   "outputs": [
    {
     "name": "stdout",
     "output_type": "stream",
     "text": [
      "(13084, 2)\n",
      "Index(['text', 'intent'], dtype='object')\n"
     ]
    },
    {
     "data": {
      "application/vnd.microsoft.datawrangler.viewer.v0+json": {
       "columns": [
        {
         "name": "index",
         "rawType": "int64",
         "type": "integer"
        },
        {
         "name": "text",
         "rawType": "object",
         "type": "string"
        },
        {
         "name": "intent",
         "rawType": "object",
         "type": "string"
        }
       ],
       "ref": "2d6f13e9-94c8-45b9-815c-345d182dd561",
       "rows": [
        [
         "0",
         "listen to westbam alumb allergic on google music",
         "PlayMusic"
        ],
        [
         "1",
         "add step to me to the 50 clásicos playlist",
         "AddToPlaylist"
        ],
        [
         "2",
         "i give this current textbook a rating value of 1 and a best rating of 6",
         "RateBook"
        ],
        [
         "3",
         "play the song little robin redbreast",
         "PlayMusic"
        ],
        [
         "4",
         "please add iris dement to my playlist this is selena",
         "AddToPlaylist"
        ]
       ],
       "shape": {
        "columns": 2,
        "rows": 5
       }
      },
      "text/html": [
       "<div>\n",
       "<style scoped>\n",
       "    .dataframe tbody tr th:only-of-type {\n",
       "        vertical-align: middle;\n",
       "    }\n",
       "\n",
       "    .dataframe tbody tr th {\n",
       "        vertical-align: top;\n",
       "    }\n",
       "\n",
       "    .dataframe thead th {\n",
       "        text-align: right;\n",
       "    }\n",
       "</style>\n",
       "<table border=\"1\" class=\"dataframe\">\n",
       "  <thead>\n",
       "    <tr style=\"text-align: right;\">\n",
       "      <th></th>\n",
       "      <th>text</th>\n",
       "      <th>intent</th>\n",
       "    </tr>\n",
       "  </thead>\n",
       "  <tbody>\n",
       "    <tr>\n",
       "      <th>0</th>\n",
       "      <td>listen to westbam alumb allergic on google music</td>\n",
       "      <td>PlayMusic</td>\n",
       "    </tr>\n",
       "    <tr>\n",
       "      <th>1</th>\n",
       "      <td>add step to me to the 50 clásicos playlist</td>\n",
       "      <td>AddToPlaylist</td>\n",
       "    </tr>\n",
       "    <tr>\n",
       "      <th>2</th>\n",
       "      <td>i give this current textbook a rating value of...</td>\n",
       "      <td>RateBook</td>\n",
       "    </tr>\n",
       "    <tr>\n",
       "      <th>3</th>\n",
       "      <td>play the song little robin redbreast</td>\n",
       "      <td>PlayMusic</td>\n",
       "    </tr>\n",
       "    <tr>\n",
       "      <th>4</th>\n",
       "      <td>please add iris dement to my playlist this is ...</td>\n",
       "      <td>AddToPlaylist</td>\n",
       "    </tr>\n",
       "  </tbody>\n",
       "</table>\n",
       "</div>"
      ],
      "text/plain": [
       "                                                text         intent\n",
       "0   listen to westbam alumb allergic on google music      PlayMusic\n",
       "1         add step to me to the 50 clásicos playlist  AddToPlaylist\n",
       "2  i give this current textbook a rating value of...       RateBook\n",
       "3               play the song little robin redbreast      PlayMusic\n",
       "4  please add iris dement to my playlist this is ...  AddToPlaylist"
      ]
     },
     "metadata": {},
     "output_type": "display_data"
    },
    {
     "name": "stdout",
     "output_type": "stream",
     "text": [
      "<class 'pandas.core.frame.DataFrame'>\n",
      "RangeIndex: 13084 entries, 0 to 13083\n",
      "Data columns (total 2 columns):\n",
      " #   Column  Non-Null Count  Dtype \n",
      "---  ------  --------------  ----- \n",
      " 0   text    13084 non-null  object\n",
      " 1   intent  13084 non-null  object\n",
      "dtypes: object(2)\n",
      "memory usage: 204.6+ KB\n",
      "Missing values per column:\n",
      " text      0\n",
      "intent    0\n",
      "dtype: int64\n",
      "Label counts:\n",
      " intent\n",
      "PlayMusic               1914\n",
      "GetWeather              1896\n",
      "BookRestaurant          1881\n",
      "RateBook                1876\n",
      "SearchScreeningEvent    1852\n",
      "SearchCreativeWork      1847\n",
      "AddToPlaylist           1818\n",
      "Name: count, dtype: int64\n"
     ]
    }
   ],
   "source": [
    "# Initial data exploration\n",
    "print(df.shape)\n",
    "print(df.columns)\n",
    "display(df.head())\n",
    "df.info()\n",
    "print(\"Missing values per column:\\n\", df.isnull().sum())\n",
    "print(\"Label counts:\\n\", df['intent'].value_counts())"
   ]
  },
  {
   "cell_type": "code",
   "execution_count": 7,
   "id": "4a313705",
   "metadata": {},
   "outputs": [
    {
     "name": "stderr",
     "output_type": "stream",
     "text": [
      "[nltk_data] Downloading package stopwords to\n",
      "[nltk_data]     C:\\Users\\DC\\AppData\\Roaming\\nltk_data...\n",
      "[nltk_data]   Package stopwords is already up-to-date!\n"
     ]
    }
   ],
   "source": [
    "# prepare stopwords\n",
    "nltk.download('stopwords')\n",
    "stop_words = set(stopwords.words('english'))"
   ]
  },
  {
   "cell_type": "code",
   "execution_count": 8,
   "id": "db04bc60",
   "metadata": {},
   "outputs": [
    {
     "data": {
      "application/vnd.microsoft.datawrangler.viewer.v0+json": {
       "columns": [
        {
         "name": "index",
         "rawType": "int64",
         "type": "integer"
        },
        {
         "name": "text",
         "rawType": "object",
         "type": "string"
        },
        {
         "name": "intent",
         "rawType": "object",
         "type": "string"
        }
       ],
       "ref": "91a264ea-f515-4b37-a9ee-b6341de4dd67",
       "rows": [
        [
         "0",
         "listen westbam alumb allergic google music",
         "playmusic"
        ],
        [
         "1",
         "add step 50 clásicos playlist",
         "addtoplaylist"
        ],
        [
         "2",
         "give current textbook rating value 1 best rating 6",
         "ratebook"
        ],
        [
         "3",
         "play song little robin redbreast",
         "playmusic"
        ],
        [
         "4",
         "please add iris dement playlist selena",
         "addtoplaylist"
        ],
        [
         "5",
         "add slimm cutta calhoun prince playlist",
         "addtoplaylist"
        ],
        [
         "6",
         "want listen seventies music",
         "playmusic"
        ],
        [
         "7",
         "play popular chant brian epstein",
         "playmusic"
        ],
        [
         "8",
         "find fish story",
         "searchscreeningevent"
        ],
        [
         "9",
         "book spot 3 mt",
         "bookrestaurant"
        ],
        [
         "10",
         "need forecast jetmore massachusetts 1 hour 1 second",
         "getweather"
        ],
        [
         "11",
         "rate series 5",
         "ratebook"
        ],
        [
         "12",
         "give list movie times films area",
         "searchscreeningevent"
        ],
        [
         "13",
         "play eighties music adele",
         "playmusic"
        ],
        [
         "14",
         "please let know weather forcast stanislaus national forest far nine months",
         "getweather"
        ],
        [
         "15",
         "book restaurant eight people six years",
         "bookrestaurant"
        ],
        [
         "16",
         "need book restaurant fork mountain sc valarie mari",
         "bookrestaurant"
        ],
        [
         "17",
         "add playlist confidence boost comes santa claus",
         "addtoplaylist"
        ],
        [
         "18",
         "book restaurant sixteen clock sc",
         "bookrestaurant"
        ],
        [
         "19",
         "add another artist spotlight country 2016 playlist",
         "addtoplaylist"
        ],
        [
         "20",
         "find movie house showing cage without key",
         "searchscreeningevent"
        ],
        [
         "21",
         "add sugarolly days list favorite slaughterhouse",
         "addtoplaylist"
        ],
        [
         "22",
         "show picture creatures light darkness",
         "searchcreativework"
        ],
        [
         "23",
         "search adventures cookie & cream",
         "searchcreativework"
        ],
        [
         "24",
         "add track global funk",
         "addtoplaylist"
        ],
        [
         "25",
         "find animated movies nearest movie house",
         "searchscreeningevent"
        ],
        [
         "26",
         "play hell house song",
         "searchcreativework"
        ],
        [
         "27",
         "give novel 5 stars",
         "ratebook"
        ],
        [
         "28",
         "find showtimes animated movies neighbourhood",
         "searchscreeningevent"
        ],
        [
         "29",
         "find movie times",
         "searchscreeningevent"
        ],
        [
         "30",
         "play top-20 best chicane songs deezer",
         "playmusic"
        ],
        [
         "31",
         "want give current textbook 4 points",
         "ratebook"
        ],
        [
         "32",
         "add manuelita indiespensables playlist",
         "addtoplaylist"
        ],
        [
         "33",
         "show movie schedules douglas theatre company",
         "searchscreeningevent"
        ],
        [
         "34",
         "like see show onion sportsdome",
         "searchcreativework"
        ],
        [
         "35",
         "like go popular bistro oh",
         "bookrestaurant"
        ],
        [
         "36",
         "weather current spot day tomorrow",
         "getweather"
        ],
        [
         "37",
         "play playlist realest south",
         "playmusic"
        ],
        [
         "38",
         "add artist gretchen soul revived playlist",
         "addtoplaylist"
        ],
        [
         "39",
         "find video game called victory march",
         "searchcreativework"
        ],
        [
         "40",
         "find novel called industry",
         "searchcreativework"
        ],
        [
         "41",
         "book taverna serves vichyssoise within walking distance oh",
         "bookrestaurant"
        ],
        [
         "42",
         "let see movie schedule seed chucky",
         "searchscreeningevent"
        ],
        [
         "43",
         "play chant mj cole",
         "playmusic"
        ],
        [
         "44",
         "weather like city frewen country venezuela",
         "getweather"
        ],
        [
         "45",
         "put song playlist name blues",
         "addtoplaylist"
        ],
        [
         "46",
         "colder ohio",
         "getweather"
        ],
        [
         "47",
         "rate album 1",
         "ratebook"
        ],
        [
         "48",
         "area find films",
         "searchscreeningevent"
        ],
        [
         "49",
         "times young swordsman showing local cinema",
         "searchscreeningevent"
        ]
       ],
       "shape": {
        "columns": 2,
        "rows": 13084
       }
      },
      "text/html": [
       "<div>\n",
       "<style scoped>\n",
       "    .dataframe tbody tr th:only-of-type {\n",
       "        vertical-align: middle;\n",
       "    }\n",
       "\n",
       "    .dataframe tbody tr th {\n",
       "        vertical-align: top;\n",
       "    }\n",
       "\n",
       "    .dataframe thead th {\n",
       "        text-align: right;\n",
       "    }\n",
       "</style>\n",
       "<table border=\"1\" class=\"dataframe\">\n",
       "  <thead>\n",
       "    <tr style=\"text-align: right;\">\n",
       "      <th></th>\n",
       "      <th>text</th>\n",
       "      <th>intent</th>\n",
       "    </tr>\n",
       "  </thead>\n",
       "  <tbody>\n",
       "    <tr>\n",
       "      <th>0</th>\n",
       "      <td>listen westbam alumb allergic google music</td>\n",
       "      <td>playmusic</td>\n",
       "    </tr>\n",
       "    <tr>\n",
       "      <th>1</th>\n",
       "      <td>add step 50 clásicos playlist</td>\n",
       "      <td>addtoplaylist</td>\n",
       "    </tr>\n",
       "    <tr>\n",
       "      <th>2</th>\n",
       "      <td>give current textbook rating value 1 best rati...</td>\n",
       "      <td>ratebook</td>\n",
       "    </tr>\n",
       "    <tr>\n",
       "      <th>3</th>\n",
       "      <td>play song little robin redbreast</td>\n",
       "      <td>playmusic</td>\n",
       "    </tr>\n",
       "    <tr>\n",
       "      <th>4</th>\n",
       "      <td>please add iris dement playlist selena</td>\n",
       "      <td>addtoplaylist</td>\n",
       "    </tr>\n",
       "    <tr>\n",
       "      <th>...</th>\n",
       "      <td>...</td>\n",
       "      <td>...</td>\n",
       "    </tr>\n",
       "    <tr>\n",
       "      <th>13079</th>\n",
       "      <td>want eat choucroute brasserie 8</td>\n",
       "      <td>bookrestaurant</td>\n",
       "    </tr>\n",
       "    <tr>\n",
       "      <th>13080</th>\n",
       "      <td>play funky heavy bluesy</td>\n",
       "      <td>playmusic</td>\n",
       "    </tr>\n",
       "    <tr>\n",
       "      <th>13081</th>\n",
       "      <td>rate current album 2 points 6</td>\n",
       "      <td>ratebook</td>\n",
       "    </tr>\n",
       "    <tr>\n",
       "      <th>13082</th>\n",
       "      <td>go photograph inflated tear</td>\n",
       "      <td>searchcreativework</td>\n",
       "    </tr>\n",
       "    <tr>\n",
       "      <th>13083</th>\n",
       "      <td>rate richard carvel 4 6</td>\n",
       "      <td>ratebook</td>\n",
       "    </tr>\n",
       "  </tbody>\n",
       "</table>\n",
       "<p>13084 rows × 2 columns</p>\n",
       "</div>"
      ],
      "text/plain": [
       "                                                    text              intent\n",
       "0             listen westbam alumb allergic google music           playmusic\n",
       "1                          add step 50 clásicos playlist       addtoplaylist\n",
       "2      give current textbook rating value 1 best rati...            ratebook\n",
       "3                       play song little robin redbreast           playmusic\n",
       "4                 please add iris dement playlist selena       addtoplaylist\n",
       "...                                                  ...                 ...\n",
       "13079                    want eat choucroute brasserie 8      bookrestaurant\n",
       "13080                            play funky heavy bluesy           playmusic\n",
       "13081                      rate current album 2 points 6            ratebook\n",
       "13082                        go photograph inflated tear  searchcreativework\n",
       "13083                            rate richard carvel 4 6            ratebook\n",
       "\n",
       "[13084 rows x 2 columns]"
      ]
     },
     "execution_count": 8,
     "metadata": {},
     "output_type": "execute_result"
    }
   ],
   "source": [
    "# function to remove stopwords\n",
    "def remove_stopwords(text):\n",
    "  # text to lowercase\n",
    "  text = text.lower()\n",
    "  \n",
    "  # remove stopwords\n",
    "  filtered_words = ' '.join([word for word in text.split() if word not in stop_words])\n",
    "  return filtered_words\n",
    "\n",
    "df['text'] = df['text'].apply(remove_stopwords)\n",
    "df"
   ]
  },
  {
   "cell_type": "code",
   "execution_count": 9,
   "id": "cdc08db3",
   "metadata": {},
   "outputs": [
    {
     "data": {
      "application/vnd.microsoft.datawrangler.viewer.v0+json": {
       "columns": [
        {
         "name": "index",
         "rawType": "int64",
         "type": "integer"
        },
        {
         "name": "text",
         "rawType": "object",
         "type": "string"
        },
        {
         "name": "intent",
         "rawType": "object",
         "type": "string"
        },
        {
         "name": "label",
         "rawType": "int64",
         "type": "integer"
        }
       ],
       "ref": "b4e7faef-1a0f-43cf-b20a-cb65c5155f71",
       "rows": [
        [
         "0",
         "listen westbam alumb allergic google music",
         "playmusic",
         "0"
        ],
        [
         "1",
         "add step 50 clásicos playlist",
         "addtoplaylist",
         "1"
        ],
        [
         "2",
         "give current textbook rating value 1 best rating 6",
         "ratebook",
         "2"
        ],
        [
         "3",
         "play song little robin redbreast",
         "playmusic",
         "0"
        ],
        [
         "4",
         "please add iris dement playlist selena",
         "addtoplaylist",
         "1"
        ],
        [
         "5",
         "add slimm cutta calhoun prince playlist",
         "addtoplaylist",
         "1"
        ],
        [
         "6",
         "want listen seventies music",
         "playmusic",
         "0"
        ],
        [
         "7",
         "play popular chant brian epstein",
         "playmusic",
         "0"
        ],
        [
         "8",
         "find fish story",
         "searchscreeningevent",
         "3"
        ],
        [
         "9",
         "book spot 3 mt",
         "bookrestaurant",
         "4"
        ],
        [
         "10",
         "need forecast jetmore massachusetts 1 hour 1 second",
         "getweather",
         "5"
        ],
        [
         "11",
         "rate series 5",
         "ratebook",
         "2"
        ],
        [
         "12",
         "give list movie times films area",
         "searchscreeningevent",
         "3"
        ],
        [
         "13",
         "play eighties music adele",
         "playmusic",
         "0"
        ],
        [
         "14",
         "please let know weather forcast stanislaus national forest far nine months",
         "getweather",
         "5"
        ],
        [
         "15",
         "book restaurant eight people six years",
         "bookrestaurant",
         "4"
        ],
        [
         "16",
         "need book restaurant fork mountain sc valarie mari",
         "bookrestaurant",
         "4"
        ],
        [
         "17",
         "add playlist confidence boost comes santa claus",
         "addtoplaylist",
         "1"
        ],
        [
         "18",
         "book restaurant sixteen clock sc",
         "bookrestaurant",
         "4"
        ],
        [
         "19",
         "add another artist spotlight country 2016 playlist",
         "addtoplaylist",
         "1"
        ],
        [
         "20",
         "find movie house showing cage without key",
         "searchscreeningevent",
         "3"
        ],
        [
         "21",
         "add sugarolly days list favorite slaughterhouse",
         "addtoplaylist",
         "1"
        ],
        [
         "22",
         "show picture creatures light darkness",
         "searchcreativework",
         "6"
        ],
        [
         "23",
         "search adventures cookie & cream",
         "searchcreativework",
         "6"
        ],
        [
         "24",
         "add track global funk",
         "addtoplaylist",
         "1"
        ],
        [
         "25",
         "find animated movies nearest movie house",
         "searchscreeningevent",
         "3"
        ],
        [
         "26",
         "play hell house song",
         "searchcreativework",
         "6"
        ],
        [
         "27",
         "give novel 5 stars",
         "ratebook",
         "2"
        ],
        [
         "28",
         "find showtimes animated movies neighbourhood",
         "searchscreeningevent",
         "3"
        ],
        [
         "29",
         "find movie times",
         "searchscreeningevent",
         "3"
        ],
        [
         "30",
         "play top-20 best chicane songs deezer",
         "playmusic",
         "0"
        ],
        [
         "31",
         "want give current textbook 4 points",
         "ratebook",
         "2"
        ],
        [
         "32",
         "add manuelita indiespensables playlist",
         "addtoplaylist",
         "1"
        ],
        [
         "33",
         "show movie schedules douglas theatre company",
         "searchscreeningevent",
         "3"
        ],
        [
         "34",
         "like see show onion sportsdome",
         "searchcreativework",
         "6"
        ],
        [
         "35",
         "like go popular bistro oh",
         "bookrestaurant",
         "4"
        ],
        [
         "36",
         "weather current spot day tomorrow",
         "getweather",
         "5"
        ],
        [
         "37",
         "play playlist realest south",
         "playmusic",
         "0"
        ],
        [
         "38",
         "add artist gretchen soul revived playlist",
         "addtoplaylist",
         "1"
        ],
        [
         "39",
         "find video game called victory march",
         "searchcreativework",
         "6"
        ],
        [
         "40",
         "find novel called industry",
         "searchcreativework",
         "6"
        ],
        [
         "41",
         "book taverna serves vichyssoise within walking distance oh",
         "bookrestaurant",
         "4"
        ],
        [
         "42",
         "let see movie schedule seed chucky",
         "searchscreeningevent",
         "3"
        ],
        [
         "43",
         "play chant mj cole",
         "playmusic",
         "0"
        ],
        [
         "44",
         "weather like city frewen country venezuela",
         "getweather",
         "5"
        ],
        [
         "45",
         "put song playlist name blues",
         "addtoplaylist",
         "1"
        ],
        [
         "46",
         "colder ohio",
         "getweather",
         "5"
        ],
        [
         "47",
         "rate album 1",
         "ratebook",
         "2"
        ],
        [
         "48",
         "area find films",
         "searchscreeningevent",
         "3"
        ],
        [
         "49",
         "times young swordsman showing local cinema",
         "searchscreeningevent",
         "3"
        ]
       ],
       "shape": {
        "columns": 3,
        "rows": 13084
       }
      },
      "text/html": [
       "<div>\n",
       "<style scoped>\n",
       "    .dataframe tbody tr th:only-of-type {\n",
       "        vertical-align: middle;\n",
       "    }\n",
       "\n",
       "    .dataframe tbody tr th {\n",
       "        vertical-align: top;\n",
       "    }\n",
       "\n",
       "    .dataframe thead th {\n",
       "        text-align: right;\n",
       "    }\n",
       "</style>\n",
       "<table border=\"1\" class=\"dataframe\">\n",
       "  <thead>\n",
       "    <tr style=\"text-align: right;\">\n",
       "      <th></th>\n",
       "      <th>text</th>\n",
       "      <th>intent</th>\n",
       "      <th>label</th>\n",
       "    </tr>\n",
       "  </thead>\n",
       "  <tbody>\n",
       "    <tr>\n",
       "      <th>0</th>\n",
       "      <td>listen westbam alumb allergic google music</td>\n",
       "      <td>playmusic</td>\n",
       "      <td>0</td>\n",
       "    </tr>\n",
       "    <tr>\n",
       "      <th>1</th>\n",
       "      <td>add step 50 clásicos playlist</td>\n",
       "      <td>addtoplaylist</td>\n",
       "      <td>1</td>\n",
       "    </tr>\n",
       "    <tr>\n",
       "      <th>2</th>\n",
       "      <td>give current textbook rating value 1 best rati...</td>\n",
       "      <td>ratebook</td>\n",
       "      <td>2</td>\n",
       "    </tr>\n",
       "    <tr>\n",
       "      <th>3</th>\n",
       "      <td>play song little robin redbreast</td>\n",
       "      <td>playmusic</td>\n",
       "      <td>0</td>\n",
       "    </tr>\n",
       "    <tr>\n",
       "      <th>4</th>\n",
       "      <td>please add iris dement playlist selena</td>\n",
       "      <td>addtoplaylist</td>\n",
       "      <td>1</td>\n",
       "    </tr>\n",
       "    <tr>\n",
       "      <th>...</th>\n",
       "      <td>...</td>\n",
       "      <td>...</td>\n",
       "      <td>...</td>\n",
       "    </tr>\n",
       "    <tr>\n",
       "      <th>13079</th>\n",
       "      <td>want eat choucroute brasserie 8</td>\n",
       "      <td>bookrestaurant</td>\n",
       "      <td>4</td>\n",
       "    </tr>\n",
       "    <tr>\n",
       "      <th>13080</th>\n",
       "      <td>play funky heavy bluesy</td>\n",
       "      <td>playmusic</td>\n",
       "      <td>0</td>\n",
       "    </tr>\n",
       "    <tr>\n",
       "      <th>13081</th>\n",
       "      <td>rate current album 2 points 6</td>\n",
       "      <td>ratebook</td>\n",
       "      <td>2</td>\n",
       "    </tr>\n",
       "    <tr>\n",
       "      <th>13082</th>\n",
       "      <td>go photograph inflated tear</td>\n",
       "      <td>searchcreativework</td>\n",
       "      <td>6</td>\n",
       "    </tr>\n",
       "    <tr>\n",
       "      <th>13083</th>\n",
       "      <td>rate richard carvel 4 6</td>\n",
       "      <td>ratebook</td>\n",
       "      <td>2</td>\n",
       "    </tr>\n",
       "  </tbody>\n",
       "</table>\n",
       "<p>13084 rows × 3 columns</p>\n",
       "</div>"
      ],
      "text/plain": [
       "                                                    text              intent  \\\n",
       "0             listen westbam alumb allergic google music           playmusic   \n",
       "1                          add step 50 clásicos playlist       addtoplaylist   \n",
       "2      give current textbook rating value 1 best rati...            ratebook   \n",
       "3                       play song little robin redbreast           playmusic   \n",
       "4                 please add iris dement playlist selena       addtoplaylist   \n",
       "...                                                  ...                 ...   \n",
       "13079                    want eat choucroute brasserie 8      bookrestaurant   \n",
       "13080                            play funky heavy bluesy           playmusic   \n",
       "13081                      rate current album 2 points 6            ratebook   \n",
       "13082                        go photograph inflated tear  searchcreativework   \n",
       "13083                            rate richard carvel 4 6            ratebook   \n",
       "\n",
       "       label  \n",
       "0          0  \n",
       "1          1  \n",
       "2          2  \n",
       "3          0  \n",
       "4          1  \n",
       "...      ...  \n",
       "13079      4  \n",
       "13080      0  \n",
       "13081      2  \n",
       "13082      6  \n",
       "13083      2  \n",
       "\n",
       "[13084 rows x 3 columns]"
      ]
     },
     "execution_count": 9,
     "metadata": {},
     "output_type": "execute_result"
    }
   ],
   "source": [
    "# encoding labels\n",
    "labels = df[\"intent\"].unique()\n",
    "label_dict = {label: i for i, label in enumerate(labels)}\n",
    "df['label'] = df['intent'].map(label_dict)\n",
    "df"
   ]
  },
  {
   "cell_type": "code",
   "execution_count": 10,
   "id": "5bd04966",
   "metadata": {},
   "outputs": [
    {
     "name": "stdout",
     "output_type": "stream",
     "text": [
      "Max length of text: 28\n"
     ]
    },
    {
     "data": {
      "application/vnd.jupyter.widget-view+json": {
       "model_id": "b022b749ce8c4606bf2b86265a8497dd",
       "version_major": 2,
       "version_minor": 0
      },
      "text/plain": [
       "Map:   0%|          | 0/13084 [00:00<?, ? examples/s]"
      ]
     },
     "metadata": {},
     "output_type": "display_data"
    },
    {
     "data": {
      "text/plain": [
       "{'text': 'listen westbam alumb allergic google music',\n",
       " 'label': 0,\n",
       " 'input_ids': [101,\n",
       "  4952,\n",
       "  2225,\n",
       "  3676,\n",
       "  2213,\n",
       "  2632,\n",
       "  25438,\n",
       "  27395,\n",
       "  8224,\n",
       "  2189,\n",
       "  102,\n",
       "  0,\n",
       "  0,\n",
       "  0,\n",
       "  0,\n",
       "  0,\n",
       "  0,\n",
       "  0,\n",
       "  0,\n",
       "  0,\n",
       "  0,\n",
       "  0,\n",
       "  0,\n",
       "  0,\n",
       "  0,\n",
       "  0,\n",
       "  0,\n",
       "  0],\n",
       " 'attention_mask': [1,\n",
       "  1,\n",
       "  1,\n",
       "  1,\n",
       "  1,\n",
       "  1,\n",
       "  1,\n",
       "  1,\n",
       "  1,\n",
       "  1,\n",
       "  1,\n",
       "  0,\n",
       "  0,\n",
       "  0,\n",
       "  0,\n",
       "  0,\n",
       "  0,\n",
       "  0,\n",
       "  0,\n",
       "  0,\n",
       "  0,\n",
       "  0,\n",
       "  0,\n",
       "  0,\n",
       "  0,\n",
       "  0,\n",
       "  0,\n",
       "  0]}"
      ]
     },
     "execution_count": 10,
     "metadata": {},
     "output_type": "execute_result"
    }
   ],
   "source": [
    "# loading the tokenizer\n",
    "tokenizer = DistilBertTokenizer.from_pretrained('distilbert-base-uncased')\n",
    "\n",
    "# max length of text\n",
    "max_length = max([len(tokenizer.encode(text)) for text in df['text']]) # find the max length of text\n",
    "print (f'Max length of text: {max_length}')\n",
    "\n",
    "\n",
    "# tokenize the text\n",
    "def tokenize_function(examples): \n",
    "  tokenized_inputs = tokenizer(examples['text'], padding='max_length', truncation=True, max_length= max_length) # tokenize the text\n",
    "  tokenized_inputs['label'] = examples['label'] # add labels to the tokenized inputs\n",
    "  return tokenized_inputs\n",
    "\n",
    "# convert dataframe to dataset\n",
    "dataset = Dataset.from_pandas(df[['text', 'label']])\n",
    "\n",
    "# tokenize the dataset\n",
    "tokenized_datasets = dataset.map(tokenize_function, batched=True)\n",
    "\n",
    "# check the tokenized dataset\n",
    "dataset[0] # original text\n",
    "tokenized_datasets[0] # tokenized text\n"
   ]
  },
  {
   "cell_type": "code",
   "execution_count": null,
   "id": "62a2d3bd",
   "metadata": {},
   "outputs": [],
   "source": [
    "# Train-test and splitting the dataset\n"
   ]
  },
  {
   "cell_type": "code",
   "execution_count": 11,
   "id": "d4ea66bc",
   "metadata": {},
   "outputs": [
    {
     "name": "stdout",
     "output_type": "stream",
     "text": [
      "Rows: 13084\n",
      "Class counts:\n",
      " intent\n",
      "playmusic               1914\n",
      "getweather              1896\n",
      "bookrestaurant          1881\n",
      "ratebook                1876\n",
      "searchscreeningevent    1852\n",
      "searchcreativework      1847\n",
      "addtoplaylist           1818\n",
      "Name: count, dtype: int64\n",
      "avg tokens: 8 median: 8 max: 28\n",
      "CUDA available: False\n",
      "Total RAM (GB): 7.68\n"
     ]
    }
   ],
   "source": [
    "# 1. dataset size & class balance\n",
    "print(\"Rows:\", len(df))\n",
    "print(\"Class counts:\\n\", df['intent'].value_counts())\n",
    "\n",
    "# 2. avg / max token length (rough)\n",
    "from transformers import DistilBertTokenizer\n",
    "tok = DistilBertTokenizer.from_pretrained('distilbert-base-uncased')\n",
    "lengths = [len(tok.encode(t, add_special_tokens=True)) for t in df['text']]\n",
    "import numpy as np\n",
    "print(\"avg tokens:\", int(np.mean(lengths)), \"median:\", int(np.median(lengths)), \"max:\", max(lengths))\n",
    "\n",
    "# 3. hardware check\n",
    "import torch\n",
    "print(\"CUDA available:\", torch.cuda.is_available())\n",
    "import psutil, os\n",
    "print(\"Total RAM (GB):\", round(psutil.virtual_memory().total / (1024**3), 2))\n"
   ]
  }
 ],
 "metadata": {
  "kernelspec": {
   "display_name": "PT_env",
   "language": "python",
   "name": "python3"
  },
  "language_info": {
   "codemirror_mode": {
    "name": "ipython",
    "version": 3
   },
   "file_extension": ".py",
   "mimetype": "text/x-python",
   "name": "python",
   "nbconvert_exporter": "python",
   "pygments_lexer": "ipython3",
   "version": "3.11.9"
  }
 },
 "nbformat": 4,
 "nbformat_minor": 5
}
